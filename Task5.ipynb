{
  "metadata": {
    "kernelspec": {
      "display_name": "Python 3",
      "language": "python",
      "name": "python3"
    },
    "language_info": {
      "name": "python",
      "version": "3.6.6",
      "mimetype": "text/x-python",
      "codemirror_mode": {
        "name": "ipython",
        "version": 3
      },
      "pygments_lexer": "ipython3",
      "nbconvert_exporter": "python",
      "file_extension": ".py"
    },
    "accelerator": "GPU",
    "colab": {
      "provenance": []
    },
    "kaggle": {
      "accelerator": "gpu",
      "dataSources": [
        {
          "sourceId": 11959,
          "sourceType": "datasetVersion",
          "datasetId": 8544
        }
      ],
      "dockerImageVersionId": 21696,
      "isInternetEnabled": true,
      "language": "python",
      "sourceType": "notebook",
      "isGpuEnabled": true
    }
  },
  "nbformat_minor": 0,
  "nbformat": 4,
  "cells": [
    {
      "source": [
        "# IMPORTANT: RUN THIS CELL IN ORDER TO IMPORT YOUR KAGGLE DATA SOURCES,\n",
        "# THEN FEEL FREE TO DELETE THIS CELL.\n",
        "# NOTE: THIS NOTEBOOK ENVIRONMENT DIFFERS FROM KAGGLE'S PYTHON\n",
        "# ENVIRONMENT SO THERE MAY BE MISSING LIBRARIES USED BY YOUR\n",
        "# NOTEBOOK.\n",
        "import kagglehub\n",
        "dansbecker_food_101_path = kagglehub.dataset_download('dansbecker/food-101')\n",
        "\n",
        "print('Data source import complete.')\n"
      ],
      "metadata": {
        "id": "syFLVg7FI4h5",
        "colab": {
          "base_uri": "https://localhost:8080/"
        },
        "outputId": "5702815e-3d96-480f-cd93-b17b80a98db5"
      },
      "cell_type": "code",
      "outputs": [
        {
          "output_type": "stream",
          "name": "stdout",
          "text": [
            "Data source import complete.\n"
          ]
        }
      ],
      "execution_count": null
    },
    {
      "cell_type": "code",
      "source": [
        "import tensorflow as tf\n",
        "import matplotlib.image as img\n",
        "%matplotlib inline\n",
        "import numpy as np\n",
        "from collections import defaultdict\n",
        "import collections\n",
        "from shutil import copy\n",
        "from shutil import copytree, rmtree\n",
        "import tensorflow.keras.backend as K\n",
        "from tensorflow.keras.models import load_model\n",
        "from tensorflow.keras.preprocessing import image\n",
        "import matplotlib.pyplot as plt\n",
        "import numpy as np\n",
        "import os\n",
        "import random\n",
        "import tensorflow as tf\n",
        "import tensorflow.keras.backend as K\n",
        "from tensorflow.keras import regularizers\n",
        "from tensorflow.keras.applications.inception_v3 import InceptionV3\n",
        "from tensorflow.keras.models import Sequential, Model\n",
        "from tensorflow.keras.layers import Dense, Dropout, Activation, Flatten\n",
        "from tensorflow.keras.layers import Convolution2D, MaxPooling2D, ZeroPadding2D, GlobalAveragePooling2D, AveragePooling2D\n",
        "from tensorflow.keras.preprocessing.image import ImageDataGenerator\n",
        "from tensorflow.keras.callbacks import ModelCheckpoint, CSVLogger\n",
        "from tensorflow.keras.optimizers import SGD\n",
        "from tensorflow.keras.regularizers import l2\n",
        "from tensorflow import keras\n",
        "from tensorflow.keras import models\n",
        "import cv2"
      ],
      "metadata": {
        "trusted": true,
        "_uuid": "dd82702380162e9587a0eae2f644dae2764f93c8",
        "execution": {
          "iopub.status.busy": "2025-06-04T06:06:13.054514Z",
          "iopub.execute_input": "2025-06-04T06:06:13.054781Z",
          "iopub.status.idle": "2025-06-04T06:06:13.975836Z",
          "shell.execute_reply.started": "2025-06-04T06:06:13.054742Z",
          "shell.execute_reply": "2025-06-04T06:06:13.97517Z"
        },
        "id": "sS9oEiajI4h7"
      },
      "outputs": [],
      "execution_count": null
    },
    {
      "cell_type": "code",
      "source": [
        "# Check if GPU is enabled\n",
        "print(tf.__version__)\n",
        "print(tf.test.gpu_device_name())"
      ],
      "metadata": {
        "_uuid": "70f06e9a535b5f32ad9d927fc00e767dd72f17dd",
        "id": "JOZZbCDoP-Hy",
        "trusted": true,
        "execution": {
          "iopub.status.busy": "2025-06-04T06:06:13.97692Z",
          "iopub.execute_input": "2025-06-04T06:06:13.977381Z",
          "iopub.status.idle": "2025-06-04T06:06:14.466187Z",
          "shell.execute_reply.started": "2025-06-04T06:06:13.977142Z",
          "shell.execute_reply": "2025-06-04T06:06:14.46511Z"
        },
        "colab": {
          "base_uri": "https://localhost:8080/"
        },
        "outputId": "044dbf2c-a252-4c62-8ac1-24646714929d"
      },
      "outputs": [
        {
          "output_type": "stream",
          "name": "stdout",
          "text": [
            "2.18.0\n",
            "/device:GPU:0\n"
          ]
        }
      ],
      "execution_count": null
    },
    {
      "cell_type": "code",
      "source": [
        "%cd r\"C:\\Users\\bhava\\Downloads\\food-101.zip.zip\""
      ],
      "metadata": {
        "_uuid": "c134497b2239d3fa5f377fb5aebf1887f627233f",
        "trusted": true,
        "execution": {
          "iopub.status.busy": "2025-06-04T06:06:14.467488Z",
          "iopub.execute_input": "2025-06-04T06:06:14.467789Z",
          "iopub.status.idle": "2025-06-04T06:06:14.476228Z",
          "shell.execute_reply.started": "2025-06-04T06:06:14.467732Z",
          "shell.execute_reply": "2025-06-04T06:06:14.47539Z"
        },
        "id": "39rdngxEI4h8",
        "colab": {
          "base_uri": "https://localhost:8080/"
        },
        "outputId": "729a4851-1bfa-42c0-8153-64ceb8fc032a"
      },
      "outputs": [
        {
          "output_type": "stream",
          "name": "stdout",
          "text": [
            "[Errno 2] No such file or directory: 'rC:\\\\Users\\\\bhava\\\\Downloads\\\\food-101.zip.zip'\n",
            "/content\n"
          ]
        }
      ],
      "execution_count": null
    },
    {
      "cell_type": "code",
      "source": [
        "# Helper function to download data and extract\n",
        "def get_data_extract():\n",
        "  if \"food-101\" in os.listdir():\n",
        "    print(\"Dataset already exists\")\n",
        "  else:\n",
        "    print(\"Downloading the data...\")\n",
        "    !wget http://data.vision.ee.ethz.ch/cvl/food-101.tar.gz\n",
        "    print(\"Dataset downloaded!\")\n",
        "    print(\"Extracting data..\")\n",
        "    !tar xzvf food-101.tar.gz\n",
        "    print(\"Extraction done!\")"
      ],
      "metadata": {
        "_uuid": "339ff95b36c15cfb16a9316d2a19cc89aaaf7160",
        "id": "f88XvEBTQBS9",
        "trusted": true,
        "execution": {
          "iopub.status.busy": "2025-06-04T06:06:14.477769Z",
          "iopub.execute_input": "2025-06-04T06:06:14.478036Z",
          "iopub.status.idle": "2025-06-04T06:06:14.49485Z",
          "shell.execute_reply.started": "2025-06-04T06:06:14.477985Z",
          "shell.execute_reply": "2025-06-04T06:06:14.494264Z"
        }
      },
      "outputs": [],
      "execution_count": null
    },
    {
      "cell_type": "code",
      "source": [
        "# Download data and extract it to folder\n",
        "# Uncomment this below line if you are on Colab\n",
        "\n",
        "#get_data_extract()"
      ],
      "metadata": {
        "_uuid": "05fd6dae2dde446b3bd4a17f81a202391f9328d3",
        "id": "O7kY0v23QJGO",
        "trusted": true,
        "execution": {
          "iopub.status.busy": "2025-06-04T06:06:14.496203Z",
          "iopub.execute_input": "2025-06-04T06:06:14.496482Z",
          "iopub.status.idle": "2025-06-04T06:06:14.505937Z",
          "shell.execute_reply.started": "2025-06-04T06:06:14.496429Z",
          "shell.execute_reply": "2025-06-04T06:06:14.505286Z"
        }
      },
      "outputs": [],
      "execution_count": null
    },
    {
      "cell_type": "code",
      "source": [
        "# Check the extracted dataset folder\n",
        "!ls food-101/"
      ],
      "metadata": {
        "_uuid": "7ceb7f04d55f3d1510a03868713e773e7df17046",
        "id": "7wJ_OH1DQyrd",
        "trusted": true,
        "execution": {
          "iopub.status.busy": "2025-06-04T06:06:14.507122Z",
          "iopub.execute_input": "2025-06-04T06:06:14.507336Z",
          "iopub.status.idle": "2025-06-04T06:06:15.56446Z",
          "shell.execute_reply.started": "2025-06-04T06:06:14.507301Z",
          "shell.execute_reply": "2025-06-04T06:06:15.563754Z"
        },
        "colab": {
          "base_uri": "https://localhost:8080/"
        },
        "outputId": "71efb69c-358f-4b98-f4d8-103eebbeb839"
      },
      "outputs": [
        {
          "output_type": "stream",
          "name": "stdout",
          "text": [
            "ls: cannot access 'food-101/': No such file or directory\n"
          ]
        }
      ],
      "execution_count": null
    },
    {
      "cell_type": "code",
      "source": [
        "# Visualize the data, showing one image per class from 101 classes\n",
        "rows = 17\n",
        "cols = 6\n",
        "fig, ax = plt.subplots(rows, cols, figsize=(25,25))\n",
        "fig.suptitle(\"Showing one random image from each class\", y=1.05, fontsize=24) # Adding  y=1.05, fontsize=24 helped me fix the suptitle overlapping with axes issue\n",
        "data_dir = \"C:\\Users\\bhava\\Downloads\\food-101.zip\"\n",
        "foods_sorted = sorted(os.listdir(data_dir))\n",
        "food_id = 0\n",
        "for i in range(rows):\n",
        "  for j in range(cols):\n",
        "    try:\n",
        "      food_selected = foods_sorted[food_id]\n",
        "      food_id += 1\n",
        "    except:\n",
        "      break\n",
        "    if food_selected == '.DS_Store':\n",
        "        continue\n",
        "    food_selected_images = os.listdir(os.path.join(data_dir,food_selected)) # returns the list of all files present in each food category\n",
        "    food_selected_random = np.random.choice(food_selected_images) # picks one food item from the list as choice, takes a list and returns one random item\n",
        "    img = plt.imread(os.path.join(data_dir,food_selected, food_selected_random))\n",
        "    ax[i][j].imshow(img)\n",
        "    ax[i][j].set_title(food_selected, pad = 10)\n",
        "\n",
        "plt.setp(ax, xticks=[],yticks=[])\n",
        "plt.tight_layout()\n",
        "# https://matplotlib.org/users/tight_layout_guide.html\n"
      ],
      "metadata": {
        "_uuid": "da6910e8bb064b76c17e07f0a2e0e23ebdefbbfa",
        "id": "Jfif27Pr5KEn",
        "trusted": true,
        "execution": {
          "iopub.status.busy": "2025-06-04T06:06:17.667809Z",
          "iopub.execute_input": "2025-06-04T06:06:17.668092Z",
          "iopub.status.idle": "2025-06-04T06:06:25.569688Z",
          "shell.execute_reply.started": "2025-06-04T06:06:17.668042Z",
          "shell.execute_reply": "2025-06-04T06:06:25.568677Z"
        },
        "colab": {
          "base_uri": "https://localhost:8080/",
          "height": 106
        },
        "outputId": "695c1cc6-7aef-498e-c4b6-c2ceb10648b4"
      },
      "outputs": [
        {
          "output_type": "error",
          "ename": "SyntaxError",
          "evalue": "(unicode error) 'unicodeescape' codec can't decode bytes in position 2-3: truncated \\UXXXXXXXX escape (ipython-input-14-998276765.py, line 6)",
          "traceback": [
            "\u001b[0;36m  File \u001b[0;32m\"/tmp/ipython-input-14-998276765.py\"\u001b[0;36m, line \u001b[0;32m6\u001b[0m\n\u001b[0;31m    data_dir = \"C:\\Users\\bhava\\Downloads\\food-101.zip\"\u001b[0m\n\u001b[0m                                                      ^\u001b[0m\n\u001b[0;31mSyntaxError\u001b[0m\u001b[0;31m:\u001b[0m (unicode error) 'unicodeescape' codec can't decode bytes in position 2-3: truncated \\UXXXXXXXX escape\n"
          ]
        }
      ],
      "execution_count": null
    },
    {
      "cell_type": "code",
      "source": [
        "# Helper method to split dataset into train and test folders\n",
        "def prepare_data(filepath, src,dest):\n",
        "  classes_images = defaultdict(list)\n",
        "  with open(filepath, 'r') as txt:\n",
        "      paths = [read.strip() for read in txt.readlines()]\n",
        "      for p in paths:\n",
        "        food = p.split('/')\n",
        "        classes_images[food[0]].append(food[1] + '.jpg')\n",
        "\n",
        "  for food in classes_images.keys():\n",
        "    print(\"\\nCopying images into \",food)\n",
        "    if not os.path.exists(os.path.join(dest,food)):\n",
        "      os.makedirs(os.path.join(dest,food))\n",
        "    for i in classes_images[food]:\n",
        "      copy(os.path.join(src,food,i), os.path.join(dest,food,i))\n",
        "  print(\"Copying Done!\")"
      ],
      "metadata": {
        "_uuid": "d6c87e52c1af18e3243f1cb72b5834941828b286",
        "id": "xB0XMUX_5KMQ",
        "trusted": true,
        "execution": {
          "iopub.status.busy": "2025-06-04T06:06:25.571657Z",
          "iopub.execute_input": "2025-06-04T06:06:25.572016Z",
          "iopub.status.idle": "2025-06-04T06:06:25.578528Z",
          "shell.execute_reply.started": "2025-06-04T06:06:25.571949Z",
          "shell.execute_reply": "2025-06-04T06:06:25.577875Z"
        }
      },
      "outputs": [],
      "execution_count": null
    },
    {
      "cell_type": "code",
      "source": [
        "# Prepare train dataset by copying images from food-101/images to food-101/train using the file train.txt\n",
        "%cd /\n",
        "print(\"Creating train data...\")\n",
        "prepare_data('/kaggle/input/food-101/food-101/meta/train.txt', '/kaggle/input/food-101/food-101/images', 'train')"
      ],
      "metadata": {
        "_uuid": "786cdb3d60ebcdddb4c2875f9e0b4508c5210fc1",
        "id": "LSgcYcqy5KUd",
        "trusted": true,
        "execution": {
          "iopub.status.busy": "2025-06-04T06:06:25.579831Z",
          "iopub.execute_input": "2025-06-04T06:06:25.580067Z",
          "iopub.status.idle": "2025-06-04T06:09:46.053056Z",
          "shell.execute_reply.started": "2025-06-04T06:06:25.580029Z",
          "shell.execute_reply": "2025-06-04T06:09:46.052375Z"
        },
        "colab": {
          "base_uri": "https://localhost:8080/",
          "height": 332
        },
        "outputId": "46f2ae2a-26d3-47fc-9e3d-7da68fadeaba"
      },
      "outputs": [
        {
          "output_type": "stream",
          "name": "stdout",
          "text": [
            "/\n",
            "Creating train data...\n"
          ]
        },
        {
          "output_type": "error",
          "ename": "FileNotFoundError",
          "evalue": "[Errno 2] No such file or directory: '/kaggle/input/food-101/food-101/meta/train.txt'",
          "traceback": [
            "\u001b[0;31m---------------------------------------------------------------------------\u001b[0m",
            "\u001b[0;31mFileNotFoundError\u001b[0m                         Traceback (most recent call last)",
            "\u001b[0;32m/tmp/ipython-input-14-2297737944.py\u001b[0m in \u001b[0;36m<cell line: 0>\u001b[0;34m()\u001b[0m\n\u001b[1;32m      2\u001b[0m \u001b[0mget_ipython\u001b[0m\u001b[0;34m(\u001b[0m\u001b[0;34m)\u001b[0m\u001b[0;34m.\u001b[0m\u001b[0mrun_line_magic\u001b[0m\u001b[0;34m(\u001b[0m\u001b[0;34m'cd'\u001b[0m\u001b[0;34m,\u001b[0m \u001b[0;34m'/'\u001b[0m\u001b[0;34m)\u001b[0m\u001b[0;34m\u001b[0m\u001b[0;34m\u001b[0m\u001b[0m\n\u001b[1;32m      3\u001b[0m \u001b[0mprint\u001b[0m\u001b[0;34m(\u001b[0m\u001b[0;34m\"Creating train data...\"\u001b[0m\u001b[0;34m)\u001b[0m\u001b[0;34m\u001b[0m\u001b[0;34m\u001b[0m\u001b[0m\n\u001b[0;32m----> 4\u001b[0;31m \u001b[0mprepare_data\u001b[0m\u001b[0;34m(\u001b[0m\u001b[0;34m'/kaggle/input/food-101/food-101/meta/train.txt'\u001b[0m\u001b[0;34m,\u001b[0m \u001b[0;34m'/kaggle/input/food-101/food-101/images'\u001b[0m\u001b[0;34m,\u001b[0m \u001b[0;34m'train'\u001b[0m\u001b[0;34m)\u001b[0m\u001b[0;34m\u001b[0m\u001b[0;34m\u001b[0m\u001b[0m\n\u001b[0m",
            "\u001b[0;32m/tmp/ipython-input-13-3482257878.py\u001b[0m in \u001b[0;36mprepare_data\u001b[0;34m(filepath, src, dest)\u001b[0m\n\u001b[1;32m      2\u001b[0m \u001b[0;32mdef\u001b[0m \u001b[0mprepare_data\u001b[0m\u001b[0;34m(\u001b[0m\u001b[0mfilepath\u001b[0m\u001b[0;34m,\u001b[0m \u001b[0msrc\u001b[0m\u001b[0;34m,\u001b[0m\u001b[0mdest\u001b[0m\u001b[0;34m)\u001b[0m\u001b[0;34m:\u001b[0m\u001b[0;34m\u001b[0m\u001b[0;34m\u001b[0m\u001b[0m\n\u001b[1;32m      3\u001b[0m   \u001b[0mclasses_images\u001b[0m \u001b[0;34m=\u001b[0m \u001b[0mdefaultdict\u001b[0m\u001b[0;34m(\u001b[0m\u001b[0mlist\u001b[0m\u001b[0;34m)\u001b[0m\u001b[0;34m\u001b[0m\u001b[0;34m\u001b[0m\u001b[0m\n\u001b[0;32m----> 4\u001b[0;31m   \u001b[0;32mwith\u001b[0m \u001b[0mopen\u001b[0m\u001b[0;34m(\u001b[0m\u001b[0mfilepath\u001b[0m\u001b[0;34m,\u001b[0m \u001b[0;34m'r'\u001b[0m\u001b[0;34m)\u001b[0m \u001b[0;32mas\u001b[0m \u001b[0mtxt\u001b[0m\u001b[0;34m:\u001b[0m\u001b[0;34m\u001b[0m\u001b[0;34m\u001b[0m\u001b[0m\n\u001b[0m\u001b[1;32m      5\u001b[0m       \u001b[0mpaths\u001b[0m \u001b[0;34m=\u001b[0m \u001b[0;34m[\u001b[0m\u001b[0mread\u001b[0m\u001b[0;34m.\u001b[0m\u001b[0mstrip\u001b[0m\u001b[0;34m(\u001b[0m\u001b[0;34m)\u001b[0m \u001b[0;32mfor\u001b[0m \u001b[0mread\u001b[0m \u001b[0;32min\u001b[0m \u001b[0mtxt\u001b[0m\u001b[0;34m.\u001b[0m\u001b[0mreadlines\u001b[0m\u001b[0;34m(\u001b[0m\u001b[0;34m)\u001b[0m\u001b[0;34m]\u001b[0m\u001b[0;34m\u001b[0m\u001b[0;34m\u001b[0m\u001b[0m\n\u001b[1;32m      6\u001b[0m       \u001b[0;32mfor\u001b[0m \u001b[0mp\u001b[0m \u001b[0;32min\u001b[0m \u001b[0mpaths\u001b[0m\u001b[0;34m:\u001b[0m\u001b[0;34m\u001b[0m\u001b[0;34m\u001b[0m\u001b[0m\n",
            "\u001b[0;31mFileNotFoundError\u001b[0m: [Errno 2] No such file or directory: '/kaggle/input/food-101/food-101/meta/train.txt'"
          ]
        }
      ],
      "execution_count": null
    },
    {
      "cell_type": "code",
      "source": [
        "# Prepare test data by copying images from food-101/images to food-101/test using the file test.txt\n",
        "print(\"Creating test data...\")\n",
        "prepare_data('/kaggle/input/food-101/food-101/meta/test.txt', '/kaggle/input/food-101/food-101/images', 'test')"
      ],
      "metadata": {
        "_uuid": "ba85577e0ef10c768e000ecf32dee36566d52599",
        "id": "JI65wZgT5Kb-",
        "trusted": true,
        "execution": {
          "iopub.status.busy": "2025-06-04T06:09:46.054128Z",
          "iopub.execute_input": "2025-06-04T06:09:46.054419Z",
          "iopub.status.idle": "2025-06-04T06:10:57.188178Z",
          "shell.execute_reply.started": "2025-06-04T06:09:46.05437Z",
          "shell.execute_reply": "2025-06-04T06:10:57.187321Z"
        }
      },
      "outputs": [],
      "execution_count": null
    },
    {
      "cell_type": "code",
      "source": [
        "# Check how many files are in the train folder\n",
        "print(\"Total number of samples in train folder\")\n",
        "!find train -type d -or -type f -printf '.' | wc -c"
      ],
      "metadata": {
        "_uuid": "b5a96c42b2af54aa994b86a58d2657b81786381b",
        "id": "Xccc8PJP5K1G",
        "trusted": true,
        "execution": {
          "iopub.status.busy": "2025-06-04T06:10:57.189378Z",
          "iopub.execute_input": "2025-06-04T06:10:57.189586Z",
          "iopub.status.idle": "2025-06-04T06:10:58.294401Z",
          "shell.execute_reply.started": "2025-06-04T06:10:57.18955Z",
          "shell.execute_reply": "2025-06-04T06:10:58.293559Z"
        },
        "colab": {
          "base_uri": "https://localhost:8080/"
        },
        "outputId": "0827c598-a962-493e-9566-d17fda846b5a"
      },
      "outputs": [
        {
          "output_type": "stream",
          "name": "stdout",
          "text": [
            "Total number of samples in train folder\n",
            "find: ‘train’: No such file or directory\n",
            "0\n"
          ]
        }
      ],
      "execution_count": null
    },
    {
      "cell_type": "code",
      "source": [
        "# Check how many files are in the test folder\n",
        "print(\"Total number of samples in test folder\")\n",
        "!find test -type d -or -type f -printf '.' | wc -c"
      ],
      "metadata": {
        "_uuid": "492bb30a200d6cde501fbe2a6424c1c05a67c2e8",
        "id": "Iz3fjQw25K3-",
        "trusted": true,
        "execution": {
          "iopub.status.busy": "2025-06-04T06:10:58.295795Z",
          "iopub.execute_input": "2025-06-04T06:10:58.29604Z",
          "iopub.status.idle": "2025-06-04T06:10:59.352873Z",
          "shell.execute_reply.started": "2025-06-04T06:10:58.296007Z",
          "shell.execute_reply": "2025-06-04T06:10:59.352013Z"
        },
        "colab": {
          "base_uri": "https://localhost:8080/"
        },
        "outputId": "49a33e80-fc75-46d6-d0d4-f8d7223118e4"
      },
      "outputs": [
        {
          "output_type": "stream",
          "name": "stdout",
          "text": [
            "Total number of samples in test folder\n",
            "find: ‘test’: No such file or directory\n",
            "0\n"
          ]
        }
      ],
      "execution_count": null
    },
    {
      "cell_type": "code",
      "source": [
        "# List of all 101 types of foods(sorted alphabetically)\n",
        "del foods_sorted[0] # remove .DS_Store from the list"
      ],
      "metadata": {
        "_uuid": "27bf6dfb6b5c0a01efaad5de5ac90301663e84ca",
        "id": "b9i8vGHYKO-g",
        "trusted": true,
        "execution": {
          "iopub.status.busy": "2025-06-04T06:10:59.354759Z",
          "iopub.execute_input": "2025-06-04T06:10:59.355364Z",
          "iopub.status.idle": "2025-06-04T06:10:59.360053Z",
          "shell.execute_reply.started": "2025-06-04T06:10:59.355117Z",
          "shell.execute_reply": "2025-06-04T06:10:59.359255Z"
        },
        "colab": {
          "base_uri": "https://localhost:8080/",
          "height": 158
        },
        "outputId": "0c972f8c-c868-4440-963e-27bfccfacc3b"
      },
      "outputs": [
        {
          "output_type": "error",
          "ename": "NameError",
          "evalue": "name 'foods_sorted' is not defined",
          "traceback": [
            "\u001b[0;31m---------------------------------------------------------------------------\u001b[0m",
            "\u001b[0;31mNameError\u001b[0m                                 Traceback (most recent call last)",
            "\u001b[0;32m/tmp/ipython-input-17-3088055405.py\u001b[0m in \u001b[0;36m<cell line: 0>\u001b[0;34m()\u001b[0m\n\u001b[1;32m      1\u001b[0m \u001b[0;31m# List of all 101 types of foods(sorted alphabetically)\u001b[0m\u001b[0;34m\u001b[0m\u001b[0;34m\u001b[0m\u001b[0m\n\u001b[0;32m----> 2\u001b[0;31m \u001b[0;32mdel\u001b[0m \u001b[0mfoods_sorted\u001b[0m\u001b[0;34m[\u001b[0m\u001b[0;36m0\u001b[0m\u001b[0;34m]\u001b[0m \u001b[0;31m# remove .DS_Store from the list\u001b[0m\u001b[0;34m\u001b[0m\u001b[0;34m\u001b[0m\u001b[0m\n\u001b[0m",
            "\u001b[0;31mNameError\u001b[0m: name 'foods_sorted' is not defined"
          ]
        }
      ],
      "execution_count": null
    },
    {
      "cell_type": "code",
      "source": [
        "foods_sorted"
      ],
      "metadata": {
        "_uuid": "61dfaaf6466e5677c0c732c9133561e27d048ef0",
        "trusted": true,
        "execution": {
          "iopub.status.busy": "2025-06-04T06:10:59.361226Z",
          "iopub.execute_input": "2025-06-04T06:10:59.361496Z",
          "iopub.status.idle": "2025-06-04T06:10:59.376232Z",
          "shell.execute_reply.started": "2025-06-04T06:10:59.361455Z",
          "shell.execute_reply": "2025-06-04T06:10:59.375309Z"
        },
        "id": "18jrjbEiI4iB",
        "colab": {
          "base_uri": "https://localhost:8080/",
          "height": 141
        },
        "outputId": "72700bde-6f96-4706-9d21-c12f26f4a352"
      },
      "outputs": [
        {
          "output_type": "error",
          "ename": "NameError",
          "evalue": "name 'foods_sorted' is not defined",
          "traceback": [
            "\u001b[0;31m---------------------------------------------------------------------------\u001b[0m",
            "\u001b[0;31mNameError\u001b[0m                                 Traceback (most recent call last)",
            "\u001b[0;32m/tmp/ipython-input-18-3417884433.py\u001b[0m in \u001b[0;36m<cell line: 0>\u001b[0;34m()\u001b[0m\n\u001b[0;32m----> 1\u001b[0;31m \u001b[0mfoods_sorted\u001b[0m\u001b[0;34m\u001b[0m\u001b[0;34m\u001b[0m\u001b[0m\n\u001b[0m",
            "\u001b[0;31mNameError\u001b[0m: name 'foods_sorted' is not defined"
          ]
        }
      ],
      "execution_count": null
    },
    {
      "cell_type": "code",
      "source": [
        "# Helper method to create train_mini and test_mini data samples\n",
        "def dataset_mini(food_list, src, dest):\n",
        "  if os.path.exists(dest):\n",
        "    rmtree(dest) # removing dataset_mini(if it already exists) folders so that we will have only the classes that we want\n",
        "  os.makedirs(dest)\n",
        "  for food_item in food_list :\n",
        "    print(\"Copying images into\",food_item)\n",
        "    copytree(os.path.join(src,food_item), os.path.join(dest,food_item))\n"
      ],
      "metadata": {
        "_uuid": "6101991b0ff433a76afdc2cb99c021862c83860e",
        "id": "tYyJGTJ6J9CP",
        "trusted": true,
        "execution": {
          "iopub.status.busy": "2025-06-04T06:10:59.377565Z",
          "iopub.execute_input": "2025-06-04T06:10:59.378014Z",
          "iopub.status.idle": "2025-06-04T06:10:59.388905Z",
          "shell.execute_reply.started": "2025-06-04T06:10:59.377795Z",
          "shell.execute_reply": "2025-06-04T06:10:59.388248Z"
        }
      },
      "outputs": [],
      "execution_count": null
    },
    {
      "cell_type": "code",
      "source": [
        "# picking 3 food items and generating separate data folders for the same\n",
        "food_list = ['apple_pie','pizza','omelette']\n",
        "src_train = 'train'\n",
        "dest_train = 'train_mini'\n",
        "src_test = 'test'\n",
        "dest_test = 'test_mini'"
      ],
      "metadata": {
        "_uuid": "71c58df71a49e4e0e2e0bfe6359602c92c2f2306",
        "id": "9YAscZLV5LFK",
        "trusted": true,
        "execution": {
          "iopub.status.busy": "2025-06-04T06:10:59.390284Z",
          "iopub.execute_input": "2025-06-04T06:10:59.390643Z",
          "iopub.status.idle": "2025-06-04T06:10:59.404987Z",
          "shell.execute_reply.started": "2025-06-04T06:10:59.390585Z",
          "shell.execute_reply": "2025-06-04T06:10:59.404032Z"
        }
      },
      "outputs": [],
      "execution_count": null
    },
    {
      "cell_type": "code",
      "source": [
        "print(\"Creating train data folder with new classes\")\n",
        "dataset_mini(food_list, src_train, dest_train)"
      ],
      "metadata": {
        "_uuid": "2a6d67301fb0a709613c1c7a3f00629c349065e3",
        "id": "tvlXbJ3NoPzy",
        "trusted": true,
        "execution": {
          "iopub.status.busy": "2025-06-04T06:10:59.406229Z",
          "iopub.execute_input": "2025-06-04T06:10:59.406542Z",
          "iopub.status.idle": "2025-06-04T06:11:00.012973Z",
          "shell.execute_reply.started": "2025-06-04T06:10:59.406485Z",
          "shell.execute_reply": "2025-06-04T06:11:00.012041Z"
        },
        "colab": {
          "base_uri": "https://localhost:8080/",
          "height": 339
        },
        "outputId": "2ea00807-e0cb-495e-eeb5-0e426ff5b394"
      },
      "outputs": [
        {
          "output_type": "stream",
          "name": "stdout",
          "text": [
            "Creating train data folder with new classes\n",
            "Copying images into apple_pie\n"
          ]
        },
        {
          "output_type": "error",
          "ename": "FileNotFoundError",
          "evalue": "[Errno 2] No such file or directory: 'train/apple_pie'",
          "traceback": [
            "\u001b[0;31m---------------------------------------------------------------------------\u001b[0m",
            "\u001b[0;31mFileNotFoundError\u001b[0m                         Traceback (most recent call last)",
            "\u001b[0;32m/tmp/ipython-input-21-1163808424.py\u001b[0m in \u001b[0;36m<cell line: 0>\u001b[0;34m()\u001b[0m\n\u001b[1;32m      1\u001b[0m \u001b[0mprint\u001b[0m\u001b[0;34m(\u001b[0m\u001b[0;34m\"Creating train data folder with new classes\"\u001b[0m\u001b[0;34m)\u001b[0m\u001b[0;34m\u001b[0m\u001b[0;34m\u001b[0m\u001b[0m\n\u001b[0;32m----> 2\u001b[0;31m \u001b[0mdataset_mini\u001b[0m\u001b[0;34m(\u001b[0m\u001b[0mfood_list\u001b[0m\u001b[0;34m,\u001b[0m \u001b[0msrc_train\u001b[0m\u001b[0;34m,\u001b[0m \u001b[0mdest_train\u001b[0m\u001b[0;34m)\u001b[0m\u001b[0;34m\u001b[0m\u001b[0;34m\u001b[0m\u001b[0m\n\u001b[0m",
            "\u001b[0;32m/tmp/ipython-input-19-2252553199.py\u001b[0m in \u001b[0;36mdataset_mini\u001b[0;34m(food_list, src, dest)\u001b[0m\n\u001b[1;32m      6\u001b[0m   \u001b[0;32mfor\u001b[0m \u001b[0mfood_item\u001b[0m \u001b[0;32min\u001b[0m \u001b[0mfood_list\u001b[0m \u001b[0;34m:\u001b[0m\u001b[0;34m\u001b[0m\u001b[0;34m\u001b[0m\u001b[0m\n\u001b[1;32m      7\u001b[0m     \u001b[0mprint\u001b[0m\u001b[0;34m(\u001b[0m\u001b[0;34m\"Copying images into\"\u001b[0m\u001b[0;34m,\u001b[0m\u001b[0mfood_item\u001b[0m\u001b[0;34m)\u001b[0m\u001b[0;34m\u001b[0m\u001b[0;34m\u001b[0m\u001b[0m\n\u001b[0;32m----> 8\u001b[0;31m     \u001b[0mcopytree\u001b[0m\u001b[0;34m(\u001b[0m\u001b[0mos\u001b[0m\u001b[0;34m.\u001b[0m\u001b[0mpath\u001b[0m\u001b[0;34m.\u001b[0m\u001b[0mjoin\u001b[0m\u001b[0;34m(\u001b[0m\u001b[0msrc\u001b[0m\u001b[0;34m,\u001b[0m\u001b[0mfood_item\u001b[0m\u001b[0;34m)\u001b[0m\u001b[0;34m,\u001b[0m \u001b[0mos\u001b[0m\u001b[0;34m.\u001b[0m\u001b[0mpath\u001b[0m\u001b[0;34m.\u001b[0m\u001b[0mjoin\u001b[0m\u001b[0;34m(\u001b[0m\u001b[0mdest\u001b[0m\u001b[0;34m,\u001b[0m\u001b[0mfood_item\u001b[0m\u001b[0;34m)\u001b[0m\u001b[0;34m)\u001b[0m\u001b[0;34m\u001b[0m\u001b[0;34m\u001b[0m\u001b[0m\n\u001b[0m",
            "\u001b[0;32m/usr/lib/python3.11/shutil.py\u001b[0m in \u001b[0;36mcopytree\u001b[0;34m(src, dst, symlinks, ignore, copy_function, ignore_dangling_symlinks, dirs_exist_ok)\u001b[0m\n\u001b[1;32m    569\u001b[0m     \"\"\"\n\u001b[1;32m    570\u001b[0m     \u001b[0msys\u001b[0m\u001b[0;34m.\u001b[0m\u001b[0maudit\u001b[0m\u001b[0;34m(\u001b[0m\u001b[0;34m\"shutil.copytree\"\u001b[0m\u001b[0;34m,\u001b[0m \u001b[0msrc\u001b[0m\u001b[0;34m,\u001b[0m \u001b[0mdst\u001b[0m\u001b[0;34m)\u001b[0m\u001b[0;34m\u001b[0m\u001b[0;34m\u001b[0m\u001b[0m\n\u001b[0;32m--> 571\u001b[0;31m     \u001b[0;32mwith\u001b[0m \u001b[0mos\u001b[0m\u001b[0;34m.\u001b[0m\u001b[0mscandir\u001b[0m\u001b[0;34m(\u001b[0m\u001b[0msrc\u001b[0m\u001b[0;34m)\u001b[0m \u001b[0;32mas\u001b[0m \u001b[0mitr\u001b[0m\u001b[0;34m:\u001b[0m\u001b[0;34m\u001b[0m\u001b[0;34m\u001b[0m\u001b[0m\n\u001b[0m\u001b[1;32m    572\u001b[0m         \u001b[0mentries\u001b[0m \u001b[0;34m=\u001b[0m \u001b[0mlist\u001b[0m\u001b[0;34m(\u001b[0m\u001b[0mitr\u001b[0m\u001b[0;34m)\u001b[0m\u001b[0;34m\u001b[0m\u001b[0;34m\u001b[0m\u001b[0m\n\u001b[1;32m    573\u001b[0m     return _copytree(entries=entries, src=src, dst=dst, symlinks=symlinks,\n",
            "\u001b[0;31mFileNotFoundError\u001b[0m: [Errno 2] No such file or directory: 'train/apple_pie'"
          ]
        }
      ],
      "execution_count": null
    },
    {
      "cell_type": "code",
      "source": [
        "print(\"Total number of samples in train folder\")\n",
        "\n",
        "!find train_mini -type d -or -type f -printf '.' | wc -c"
      ],
      "metadata": {
        "_uuid": "274b3f850418d859fdc0cffbbcbf8d33bdd8789b",
        "id": "t7mWJCev5LI8",
        "trusted": true,
        "execution": {
          "iopub.status.busy": "2025-06-04T06:11:00.014513Z",
          "iopub.execute_input": "2025-06-04T06:11:00.014857Z",
          "iopub.status.idle": "2025-06-04T06:11:01.078067Z",
          "shell.execute_reply.started": "2025-06-04T06:11:00.014789Z",
          "shell.execute_reply": "2025-06-04T06:11:01.07735Z"
        },
        "colab": {
          "base_uri": "https://localhost:8080/"
        },
        "outputId": "a99d8800-4434-4e57-c2a8-70312c797084"
      },
      "outputs": [
        {
          "output_type": "stream",
          "name": "stdout",
          "text": [
            "Total number of samples in train folder\n",
            "0\n"
          ]
        }
      ],
      "execution_count": null
    },
    {
      "cell_type": "code",
      "source": [
        "print(\"Creating test data folder with new classes\")\n",
        "dataset_mini(food_list, src_test, dest_test)"
      ],
      "metadata": {
        "_uuid": "93fb0d0f94b56dd488ebe3e4964b9799cf5228b3",
        "id": "s4aeURey5LLy",
        "trusted": true,
        "execution": {
          "iopub.status.busy": "2025-06-04T06:11:01.079768Z",
          "iopub.execute_input": "2025-06-04T06:11:01.080092Z",
          "iopub.status.idle": "2025-06-04T06:11:01.273033Z",
          "shell.execute_reply.started": "2025-06-04T06:11:01.080034Z",
          "shell.execute_reply": "2025-06-04T06:11:01.272147Z"
        },
        "colab": {
          "base_uri": "https://localhost:8080/",
          "height": 339
        },
        "outputId": "a91ec777-1629-48a3-faad-cdf2278b071c"
      },
      "outputs": [
        {
          "output_type": "stream",
          "name": "stdout",
          "text": [
            "Creating test data folder with new classes\n",
            "Copying images into apple_pie\n"
          ]
        },
        {
          "output_type": "error",
          "ename": "FileNotFoundError",
          "evalue": "[Errno 2] No such file or directory: 'test/apple_pie'",
          "traceback": [
            "\u001b[0;31m---------------------------------------------------------------------------\u001b[0m",
            "\u001b[0;31mFileNotFoundError\u001b[0m                         Traceback (most recent call last)",
            "\u001b[0;32m/tmp/ipython-input-23-1077634525.py\u001b[0m in \u001b[0;36m<cell line: 0>\u001b[0;34m()\u001b[0m\n\u001b[1;32m      1\u001b[0m \u001b[0mprint\u001b[0m\u001b[0;34m(\u001b[0m\u001b[0;34m\"Creating test data folder with new classes\"\u001b[0m\u001b[0;34m)\u001b[0m\u001b[0;34m\u001b[0m\u001b[0;34m\u001b[0m\u001b[0m\n\u001b[0;32m----> 2\u001b[0;31m \u001b[0mdataset_mini\u001b[0m\u001b[0;34m(\u001b[0m\u001b[0mfood_list\u001b[0m\u001b[0;34m,\u001b[0m \u001b[0msrc_test\u001b[0m\u001b[0;34m,\u001b[0m \u001b[0mdest_test\u001b[0m\u001b[0;34m)\u001b[0m\u001b[0;34m\u001b[0m\u001b[0;34m\u001b[0m\u001b[0m\n\u001b[0m",
            "\u001b[0;32m/tmp/ipython-input-19-2252553199.py\u001b[0m in \u001b[0;36mdataset_mini\u001b[0;34m(food_list, src, dest)\u001b[0m\n\u001b[1;32m      6\u001b[0m   \u001b[0;32mfor\u001b[0m \u001b[0mfood_item\u001b[0m \u001b[0;32min\u001b[0m \u001b[0mfood_list\u001b[0m \u001b[0;34m:\u001b[0m\u001b[0;34m\u001b[0m\u001b[0;34m\u001b[0m\u001b[0m\n\u001b[1;32m      7\u001b[0m     \u001b[0mprint\u001b[0m\u001b[0;34m(\u001b[0m\u001b[0;34m\"Copying images into\"\u001b[0m\u001b[0;34m,\u001b[0m\u001b[0mfood_item\u001b[0m\u001b[0;34m)\u001b[0m\u001b[0;34m\u001b[0m\u001b[0;34m\u001b[0m\u001b[0m\n\u001b[0;32m----> 8\u001b[0;31m     \u001b[0mcopytree\u001b[0m\u001b[0;34m(\u001b[0m\u001b[0mos\u001b[0m\u001b[0;34m.\u001b[0m\u001b[0mpath\u001b[0m\u001b[0;34m.\u001b[0m\u001b[0mjoin\u001b[0m\u001b[0;34m(\u001b[0m\u001b[0msrc\u001b[0m\u001b[0;34m,\u001b[0m\u001b[0mfood_item\u001b[0m\u001b[0;34m)\u001b[0m\u001b[0;34m,\u001b[0m \u001b[0mos\u001b[0m\u001b[0;34m.\u001b[0m\u001b[0mpath\u001b[0m\u001b[0;34m.\u001b[0m\u001b[0mjoin\u001b[0m\u001b[0;34m(\u001b[0m\u001b[0mdest\u001b[0m\u001b[0;34m,\u001b[0m\u001b[0mfood_item\u001b[0m\u001b[0;34m)\u001b[0m\u001b[0;34m)\u001b[0m\u001b[0;34m\u001b[0m\u001b[0;34m\u001b[0m\u001b[0m\n\u001b[0m",
            "\u001b[0;32m/usr/lib/python3.11/shutil.py\u001b[0m in \u001b[0;36mcopytree\u001b[0;34m(src, dst, symlinks, ignore, copy_function, ignore_dangling_symlinks, dirs_exist_ok)\u001b[0m\n\u001b[1;32m    569\u001b[0m     \"\"\"\n\u001b[1;32m    570\u001b[0m     \u001b[0msys\u001b[0m\u001b[0;34m.\u001b[0m\u001b[0maudit\u001b[0m\u001b[0;34m(\u001b[0m\u001b[0;34m\"shutil.copytree\"\u001b[0m\u001b[0;34m,\u001b[0m \u001b[0msrc\u001b[0m\u001b[0;34m,\u001b[0m \u001b[0mdst\u001b[0m\u001b[0;34m)\u001b[0m\u001b[0;34m\u001b[0m\u001b[0;34m\u001b[0m\u001b[0m\n\u001b[0;32m--> 571\u001b[0;31m     \u001b[0;32mwith\u001b[0m \u001b[0mos\u001b[0m\u001b[0;34m.\u001b[0m\u001b[0mscandir\u001b[0m\u001b[0;34m(\u001b[0m\u001b[0msrc\u001b[0m\u001b[0;34m)\u001b[0m \u001b[0;32mas\u001b[0m \u001b[0mitr\u001b[0m\u001b[0;34m:\u001b[0m\u001b[0;34m\u001b[0m\u001b[0;34m\u001b[0m\u001b[0m\n\u001b[0m\u001b[1;32m    572\u001b[0m         \u001b[0mentries\u001b[0m \u001b[0;34m=\u001b[0m \u001b[0mlist\u001b[0m\u001b[0;34m(\u001b[0m\u001b[0mitr\u001b[0m\u001b[0;34m)\u001b[0m\u001b[0;34m\u001b[0m\u001b[0;34m\u001b[0m\u001b[0m\n\u001b[1;32m    573\u001b[0m     return _copytree(entries=entries, src=src, dst=dst, symlinks=symlinks,\n",
            "\u001b[0;31mFileNotFoundError\u001b[0m: [Errno 2] No such file or directory: 'test/apple_pie'"
          ]
        }
      ],
      "execution_count": null
    },
    {
      "cell_type": "code",
      "source": [
        "print(\"Total number of samples in test folder\")\n",
        "!find test_mini -type d -or -type f -printf '.' | wc -c"
      ],
      "metadata": {
        "_uuid": "9560f0dd98c3decf8fceed05072def71efc2462e",
        "id": "LBLq_gYD5LOm",
        "trusted": true,
        "execution": {
          "iopub.status.busy": "2025-06-04T06:11:01.274326Z",
          "iopub.execute_input": "2025-06-04T06:11:01.274599Z",
          "iopub.status.idle": "2025-06-04T06:11:02.332619Z",
          "shell.execute_reply.started": "2025-06-04T06:11:01.274511Z",
          "shell.execute_reply": "2025-06-04T06:11:02.331898Z"
        },
        "colab": {
          "base_uri": "https://localhost:8080/"
        },
        "outputId": "9e6df245-10d1-4707-c039-1a67a26ca43b"
      },
      "outputs": [
        {
          "output_type": "stream",
          "name": "stdout",
          "text": [
            "Total number of samples in test folder\n",
            "0\n"
          ]
        }
      ],
      "execution_count": null
    },
    {
      "cell_type": "code",
      "source": [
        "K.clear_session()\n",
        "n_classes = 3\n",
        "img_width, img_height = 299, 299\n",
        "train_data_dir = 'train_mini'\n",
        "validation_data_dir = 'test_mini'\n",
        "nb_train_samples = 2250 #75750\n",
        "nb_validation_samples = 750 #25250\n",
        "batch_size = 16\n",
        "\n",
        "train_datagen = ImageDataGenerator(\n",
        "    rescale=1. / 255,\n",
        "    shear_range=0.2,\n",
        "    zoom_range=0.2,\n",
        "    horizontal_flip=True)\n",
        "\n",
        "test_datagen = ImageDataGenerator(rescale=1. / 255)\n",
        "\n",
        "train_generator = train_datagen.flow_from_directory(\n",
        "    train_data_dir,\n",
        "    target_size=(img_height, img_width),\n",
        "    batch_size=batch_size,\n",
        "    class_mode='categorical')\n",
        "\n",
        "validation_generator = test_datagen.flow_from_directory(\n",
        "    validation_data_dir,\n",
        "    target_size=(img_height, img_width),\n",
        "    batch_size=batch_size,\n",
        "    class_mode='categorical')\n",
        "\n",
        "\n",
        "inception = InceptionV3(weights='imagenet', include_top=False)\n",
        "x = inception.output\n",
        "x = GlobalAveragePooling2D()(x)\n",
        "x = Dense(128,activation='relu')(x)\n",
        "x = Dropout(0.2)(x)\n",
        "\n",
        "predictions = Dense(3,kernel_regularizer=regularizers.l2(0.005), activation='softmax')(x)\n",
        "\n",
        "model = Model(inputs=inception.input, outputs=predictions)\n",
        "model.compile(optimizer=SGD(lr=0.0001, momentum=0.9), loss='categorical_crossentropy', metrics=['accuracy'])\n",
        "checkpointer = ModelCheckpoint(filepath='best_model_3class.hdf5', verbose=1, save_best_only=True)\n",
        "csv_logger = CSVLogger('history_3class.log')\n",
        "\n",
        "history = model.fit_generator(train_generator,\n",
        "                    steps_per_epoch = nb_train_samples // batch_size,\n",
        "                    validation_data=validation_generator,\n",
        "                    validation_steps=nb_validation_samples // batch_size,\n",
        "                    epochs=30,\n",
        "                    verbose=1,\n",
        "                    callbacks=[csv_logger, checkpointer])\n",
        "\n",
        "model.save('model_trained_3class.hdf5')\n"
      ],
      "metadata": {
        "_uuid": "8d08ece78ab731f7ac8a9b4b581e42e29093bcca",
        "id": "JBs1U7hZkp1U",
        "trusted": true,
        "execution": {
          "iopub.status.busy": "2025-06-04T06:11:02.334266Z",
          "iopub.execute_input": "2025-06-04T06:11:02.334622Z",
          "iopub.status.idle": "2025-06-04T06:36:55.28438Z",
          "shell.execute_reply.started": "2025-06-04T06:11:02.334567Z",
          "shell.execute_reply": "2025-06-04T06:36:55.283193Z"
        }
      },
      "outputs": [],
      "execution_count": null
    },
    {
      "cell_type": "code",
      "source": [
        "class_map_3 = train_generator.class_indices\n",
        "class_map_3"
      ],
      "metadata": {
        "trusted": true,
        "_uuid": "558180f917fba895b9792328b234421c097f1ba0",
        "execution": {
          "iopub.status.busy": "2025-06-04T06:36:55.286485Z",
          "iopub.execute_input": "2025-06-04T06:36:55.286785Z",
          "iopub.status.idle": "2025-06-04T06:36:55.292183Z",
          "shell.execute_reply.started": "2025-06-04T06:36:55.286729Z",
          "shell.execute_reply": "2025-06-04T06:36:55.291338Z"
        },
        "id": "SxKV0-KhI4iG"
      },
      "outputs": [],
      "execution_count": null
    },
    {
      "cell_type": "code",
      "source": [
        "def plot_accuracy(history,title):\n",
        "    plt.title(title)\n",
        "    plt.plot(history.history['acc'])\n",
        "    plt.plot(history.history['val_acc'])\n",
        "    plt.ylabel('accuracy')\n",
        "    plt.xlabel('epoch')\n",
        "    plt.legend(['train_accuracy', 'validation_accuracy'], loc='best')\n",
        "    plt.show()\n",
        "def plot_loss(history,title):\n",
        "    plt.title(title)\n",
        "    plt.plot(history.history['loss'])\n",
        "    plt.plot(history.history['val_loss'])\n",
        "    plt.ylabel('loss')\n",
        "    plt.xlabel('epoch')\n",
        "    plt.legend(['train_loss', 'validation_loss'], loc='best')\n",
        "    plt.show()\n"
      ],
      "metadata": {
        "_uuid": "27084e072edb2c961bfa6be87d80f273d32533c2",
        "id": "SjRm_AWZpPZm",
        "trusted": true,
        "execution": {
          "iopub.status.busy": "2025-06-04T06:36:55.293418Z",
          "iopub.execute_input": "2025-06-04T06:36:55.293627Z",
          "iopub.status.idle": "2025-06-04T06:36:55.927366Z",
          "shell.execute_reply.started": "2025-06-04T06:36:55.29358Z",
          "shell.execute_reply": "2025-06-04T06:36:55.926598Z"
        }
      },
      "outputs": [],
      "execution_count": null
    },
    {
      "cell_type": "code",
      "source": [
        "plot_accuracy(history,'FOOD101-Inceptionv3')\n",
        "plot_loss(history,'FOOD101-Inceptionv3')"
      ],
      "metadata": {
        "_uuid": "a73c830d2fbd841c9541628061313e4fd8506a51",
        "trusted": true,
        "execution": {
          "iopub.status.busy": "2025-06-04T06:36:55.928851Z",
          "iopub.execute_input": "2025-06-04T06:36:55.929179Z",
          "iopub.status.idle": "2025-06-04T06:36:56.411139Z",
          "shell.execute_reply.started": "2025-06-04T06:36:55.929105Z",
          "shell.execute_reply": "2025-06-04T06:36:56.409957Z"
        },
        "id": "1JRH1aHSI4iH"
      },
      "outputs": [],
      "execution_count": null
    },
    {
      "cell_type": "code",
      "source": [
        "%%time\n",
        "# Loading the best saved model to make predictions\n",
        "K.clear_session()\n",
        "model_best = load_model('best_model_3class.hdf5',compile = False)"
      ],
      "metadata": {
        "_uuid": "dead5f30514dd02e80463adb162ca508ca34ee74",
        "id": "XBb-sj73pNc7",
        "trusted": true,
        "execution": {
          "iopub.status.busy": "2025-06-04T06:36:56.41269Z",
          "iopub.execute_input": "2025-06-04T06:36:56.413082Z",
          "iopub.status.idle": "2025-06-04T06:37:05.724996Z",
          "shell.execute_reply.started": "2025-06-04T06:36:56.413018Z",
          "shell.execute_reply": "2025-06-04T06:37:05.724117Z"
        }
      },
      "outputs": [],
      "execution_count": null
    },
    {
      "cell_type": "code",
      "source": [
        "def predict_class(model, images, show = True):\n",
        "  for img in images:\n",
        "    img = image.load_img(img, target_size=(299, 299))\n",
        "    img = image.img_to_array(img)\n",
        "    img = np.expand_dims(img, axis=0)\n",
        "    img /= 255.\n",
        "\n",
        "    pred = model.predict(img)\n",
        "    index = np.argmax(pred)\n",
        "    food_list.sort()\n",
        "    pred_value = food_list[index]\n",
        "    if show:\n",
        "        plt.imshow(img[0])\n",
        "        plt.axis('off')\n",
        "        plt.title(pred_value)\n",
        "        plt.show()"
      ],
      "metadata": {
        "_uuid": "310fae2c5342c7f432962c4b2e90f09724b5d2c2",
        "id": "5MIBtyj1pFoK",
        "trusted": true,
        "execution": {
          "iopub.status.busy": "2025-06-04T06:37:05.726134Z",
          "iopub.execute_input": "2025-06-04T06:37:05.726382Z",
          "iopub.status.idle": "2025-06-04T06:37:05.731557Z",
          "shell.execute_reply.started": "2025-06-04T06:37:05.726341Z",
          "shell.execute_reply": "2025-06-04T06:37:05.730586Z"
        }
      },
      "outputs": [],
      "execution_count": null
    },
    {
      "cell_type": "code",
      "source": [
        "# Downloading images from internet using the URLs\n",
        "!wget -O https://upload.wikimedia.org/wikipedia/commons/thumb/8/87/Samoosa.jpg/330px-Samoosa.jpg\n",
        "!wget -O applepie.jpg https://acleanbake.com/wp-content/uploads/2017/10/Paleo-Apple-Pie-with-Crumb-Topping-gluten-free-grain-free-dairy-free-15.jpg\n",
        "!wget -O pizza.jpg https://upload.wikimedia.org/wikipedia/commons/thumb/9/91/Pizza-3007395.jpg/500px-Pizza-3007395.jpg\n",
        "!wget -O omelette.jpg https://upload.wikimedia.org/wikipedia/commons/thumb/7/7e/Omelet_With_Fixings.jpg/500px-Omelet_With_Fixings.jpg\n",
        "\n",
        "# If you have an image in your local computer and want to try it, uncomment the below code to upload the image files\n",
        "\n",
        "# from google.colab import files\n",
        "# image = files.upload()"
      ],
      "metadata": {
        "_uuid": "19b36af37ba3c10e01e7d7b341a1e9482a48980d",
        "id": "4G3dZtmwJNuX",
        "trusted": true,
        "execution": {
          "iopub.status.busy": "2025-06-04T06:37:05.732616Z",
          "iopub.execute_input": "2025-06-04T06:37:05.73286Z",
          "iopub.status.idle": "2025-06-04T06:37:12.589261Z",
          "shell.execute_reply.started": "2025-06-04T06:37:05.73282Z",
          "shell.execute_reply": "2025-06-04T06:37:12.588456Z"
        }
      },
      "outputs": [],
      "execution_count": null
    },
    {
      "cell_type": "code",
      "source": [
        "# Make a list of downloaded images and test the trained model\n",
        "images = []\n",
        "images.append('applepie.jpg')\n",
        "images.append('pizza.jpg')\n",
        "images.append('omelette.jpg')\n",
        "predict_class(model_best, images, True)"
      ],
      "metadata": {
        "_uuid": "75bf083ef761963365a06ed543ac4c33d048ba52",
        "id": "uzLVocClxD0f",
        "trusted": true,
        "execution": {
          "iopub.status.busy": "2025-06-04T06:37:12.591056Z",
          "iopub.execute_input": "2025-06-04T06:37:12.591414Z",
          "iopub.status.idle": "2025-06-04T06:37:14.767074Z",
          "shell.execute_reply.started": "2025-06-04T06:37:12.591348Z",
          "shell.execute_reply": "2025-06-04T06:37:14.765998Z"
        }
      },
      "outputs": [],
      "execution_count": null
    },
    {
      "cell_type": "code",
      "source": [
        "# Helper function to select n random food classes\n",
        "def pick_n_random_classes(n):\n",
        "  food_list = []\n",
        "  random_food_indices = random.sample(range(len(foods_sorted)),n) # We are picking n random food classes\n",
        "  for i in random_food_indices:\n",
        "    food_list.append(foods_sorted[i])\n",
        "  food_list.sort()\n",
        "  return food_list\n"
      ],
      "metadata": {
        "_uuid": "43528bc9794091be03f6d4480a8a6a14ce58a1eb",
        "id": "EUe06wqASS1s",
        "trusted": true,
        "execution": {
          "iopub.status.busy": "2025-06-04T06:37:14.768668Z",
          "iopub.execute_input": "2025-06-04T06:37:14.769024Z",
          "iopub.status.idle": "2025-06-04T06:37:14.776449Z",
          "shell.execute_reply.started": "2025-06-04T06:37:14.768966Z",
          "shell.execute_reply": "2025-06-04T06:37:14.775443Z"
        }
      },
      "outputs": [],
      "execution_count": null
    },
    {
      "cell_type": "code",
      "source": [
        "# Lets try with more classes than just 3. Also, this time lets randomly pick the food classes\n",
        "n = 11\n",
        "food_list = pick_n_random_classes(n)\n",
        "food_list = ['apple_pie', 'beef_carpaccio', 'bibimbap', 'cup_cakes', 'foie_gras', 'french_fries', 'garlic_bread', 'pizza', 'spring_rolls', 'spaghetti_carbonara', 'strawberry_shortcake']\n",
        "print(\"These are the randomly picked food classes we will be training the model on...\\n\", food_list)"
      ],
      "metadata": {
        "_uuid": "b3088cb98adad92a14b1c8e656991ce9e2854726",
        "id": "b1DiwFi3SSrV",
        "trusted": true,
        "execution": {
          "iopub.status.busy": "2025-06-04T06:37:14.778099Z",
          "iopub.execute_input": "2025-06-04T06:37:14.778712Z",
          "iopub.status.idle": "2025-06-04T06:37:14.79274Z",
          "shell.execute_reply.started": "2025-06-04T06:37:14.778652Z",
          "shell.execute_reply": "2025-06-04T06:37:14.791652Z"
        }
      },
      "outputs": [],
      "execution_count": null
    },
    {
      "cell_type": "code",
      "source": [
        "# Create the new data subset of n classes\n",
        "print(\"Creating training data folder with new classes...\")\n",
        "dataset_mini(food_list, src_train, dest_train)"
      ],
      "metadata": {
        "_uuid": "adfc9bddef628878eb90259c2bdaf2ce3411b832",
        "id": "eyfKi0kqZQVo",
        "trusted": true,
        "execution": {
          "iopub.status.busy": "2025-06-04T06:37:14.794782Z",
          "iopub.execute_input": "2025-06-04T06:37:14.795125Z",
          "iopub.status.idle": "2025-06-04T06:37:16.626621Z",
          "shell.execute_reply.started": "2025-06-04T06:37:14.795069Z",
          "shell.execute_reply": "2025-06-04T06:37:16.625971Z"
        }
      },
      "outputs": [],
      "execution_count": null
    },
    {
      "cell_type": "code",
      "source": [
        "print(\"Total number of samples in train folder\")\n",
        "!find train_mini -type d -or -type f -printf '.' | wc -c"
      ],
      "metadata": {
        "_uuid": "8ac366a77d7dd10f46a34bd9c48b63d308e756af",
        "id": "_qdfhtWQZQeW",
        "trusted": true,
        "execution": {
          "iopub.status.busy": "2025-06-04T06:37:16.627835Z",
          "iopub.execute_input": "2025-06-04T06:37:16.628042Z",
          "iopub.status.idle": "2025-06-04T06:37:17.716827Z",
          "shell.execute_reply.started": "2025-06-04T06:37:16.628009Z",
          "shell.execute_reply": "2025-06-04T06:37:17.715776Z"
        }
      },
      "outputs": [],
      "execution_count": null
    },
    {
      "cell_type": "code",
      "source": [
        "print(\"Creating test data folder with new classes\")\n",
        "dataset_mini(food_list, src_test, dest_test)"
      ],
      "metadata": {
        "_uuid": "353e712c762462d2051c86ed0a4b9ae54303ca23",
        "id": "kVyZYEVyZQm4",
        "trusted": true,
        "execution": {
          "iopub.status.busy": "2025-06-04T06:37:17.718596Z",
          "iopub.execute_input": "2025-06-04T06:37:17.718875Z",
          "iopub.status.idle": "2025-06-04T06:37:18.52441Z",
          "shell.execute_reply.started": "2025-06-04T06:37:17.718831Z",
          "shell.execute_reply": "2025-06-04T06:37:18.523305Z"
        }
      },
      "outputs": [],
      "execution_count": null
    },
    {
      "cell_type": "code",
      "source": [
        "print(\"Total number of samples in test folder\")\n",
        "!find test_mini -type d -or -type f -printf '.' | wc -c"
      ],
      "metadata": {
        "_uuid": "ed15e0d8e8cdcd29f4c264883322196b797d9084",
        "id": "_hP14tE0ZQvH",
        "trusted": true,
        "execution": {
          "iopub.status.busy": "2025-06-04T06:37:18.526458Z",
          "iopub.execute_input": "2025-06-04T06:37:18.52684Z",
          "iopub.status.idle": "2025-06-04T06:37:19.632293Z",
          "shell.execute_reply.started": "2025-06-04T06:37:18.526777Z",
          "shell.execute_reply": "2025-06-04T06:37:19.631455Z"
        }
      },
      "outputs": [],
      "execution_count": null
    },
    {
      "cell_type": "code",
      "source": [
        "# Let's use a pretrained Inceptionv3 model on subset of data with 11 food classes\n",
        "K.clear_session()\n",
        "\n",
        "n_classes = n\n",
        "img_width, img_height = 299, 299\n",
        "train_data_dir = 'train_mini'\n",
        "validation_data_dir = 'test_mini'\n",
        "nb_train_samples = 8250 #75750\n",
        "nb_validation_samples = 2750 #25250\n",
        "batch_size = 16\n",
        "\n",
        "train_datagen = ImageDataGenerator(\n",
        "    rescale=1. / 255,\n",
        "    shear_range=0.2,\n",
        "    zoom_range=0.2,\n",
        "    horizontal_flip=True)\n",
        "\n",
        "test_datagen = ImageDataGenerator(rescale=1. / 255)\n",
        "\n",
        "train_generator = train_datagen.flow_from_directory(\n",
        "    train_data_dir,\n",
        "    target_size=(img_height, img_width),\n",
        "    batch_size=batch_size,\n",
        "    class_mode='categorical')\n",
        "\n",
        "validation_generator = test_datagen.flow_from_directory(\n",
        "    validation_data_dir,\n",
        "    target_size=(img_height, img_width),\n",
        "    batch_size=batch_size,\n",
        "    class_mode='categorical')\n",
        "\n",
        "\n",
        "inception = InceptionV3(weights='imagenet', include_top=False)\n",
        "x = inception.output\n",
        "x = GlobalAveragePooling2D()(x)\n",
        "x = Dense(128,activation='relu')(x)\n",
        "x = Dropout(0.2)(x)\n",
        "\n",
        "predictions = Dense(n,kernel_regularizer=regularizers.l2(0.005), activation='softmax')(x)\n",
        "\n",
        "model = Model(inputs=inception.input, outputs=predictions)\n",
        "model.compile(optimizer=SGD(lr=0.0001, momentum=0.9), loss='categorical_crossentropy', metrics=['accuracy'])\n",
        "checkpointer = ModelCheckpoint(filepath='best_model_11class.hdf5', verbose=1, save_best_only=True)\n",
        "csv_logger = CSVLogger('history_11class.log')\n",
        "\n",
        "history_11class = model.fit_generator(train_generator,\n",
        "                    steps_per_epoch = nb_train_samples // batch_size,\n",
        "                    validation_data=validation_generator,\n",
        "                    validation_steps=nb_validation_samples // batch_size,\n",
        "                    epochs=30,\n",
        "                    verbose=1,\n",
        "                    callbacks=[csv_logger, checkpointer])\n",
        "\n",
        "model.save('model_trained_11class.hdf5')\n"
      ],
      "metadata": {
        "_uuid": "b94f4380c22c8118e9589f6f5dcdba84fe0484b4",
        "id": "SyoYObOKZQ4j",
        "trusted": true,
        "execution": {
          "iopub.status.busy": "2025-06-04T06:37:19.634106Z",
          "iopub.execute_input": "2025-06-04T06:37:19.634411Z",
          "iopub.status.idle": "2025-06-04T08:12:38.738125Z",
          "shell.execute_reply.started": "2025-06-04T06:37:19.634352Z",
          "shell.execute_reply": "2025-06-04T08:12:38.737392Z"
        }
      },
      "outputs": [],
      "execution_count": null
    },
    {
      "cell_type": "code",
      "source": [
        "class_map_11 = train_generator.class_indices\n",
        "class_map_11"
      ],
      "metadata": {
        "trusted": true,
        "_uuid": "6280805e09902ca1b11772a2d5c942d2edcca5d4",
        "execution": {
          "iopub.status.busy": "2025-06-04T08:12:38.739313Z",
          "iopub.execute_input": "2025-06-04T08:12:38.739541Z",
          "iopub.status.idle": "2025-06-04T08:12:38.744562Z",
          "shell.execute_reply.started": "2025-06-04T08:12:38.739496Z",
          "shell.execute_reply": "2025-06-04T08:12:38.7439Z"
        },
        "id": "2lP6DEJYI4iI"
      },
      "outputs": [],
      "execution_count": null
    },
    {
      "cell_type": "code",
      "source": [
        "plot_accuracy(history_11class,'FOOD101-Inceptionv3')\n",
        "plot_loss(history_11class,'FOOD101-Inceptionv3')"
      ],
      "metadata": {
        "_uuid": "0bd7c9c273e27e7452a06fe54b1875741a1e033a",
        "id": "9j6jD5Ny9Mvh",
        "trusted": true,
        "execution": {
          "iopub.status.busy": "2025-06-04T08:12:38.745626Z",
          "iopub.execute_input": "2025-06-04T08:12:38.745862Z",
          "iopub.status.idle": "2025-06-04T08:12:39.248098Z",
          "shell.execute_reply.started": "2025-06-04T08:12:38.745825Z",
          "shell.execute_reply": "2025-06-04T08:12:39.246979Z"
        }
      },
      "outputs": [],
      "execution_count": null
    },
    {
      "cell_type": "code",
      "source": [
        "%%time\n",
        "# Loading the best saved model to make predictions\n",
        "K.clear_session()\n",
        "model_best = load_model('best_model_11class.hdf5',compile = False)"
      ],
      "metadata": {
        "_uuid": "ef4ab1c2f8402dd1bf1af334e8bc97c9eec2e776",
        "id": "BAXYCwWF8TmY",
        "trusted": true,
        "execution": {
          "iopub.status.busy": "2025-06-04T08:12:39.249751Z",
          "iopub.execute_input": "2025-06-04T08:12:39.250136Z",
          "iopub.status.idle": "2025-06-04T08:12:48.027769Z",
          "shell.execute_reply.started": "2025-06-04T08:12:39.250075Z",
          "shell.execute_reply": "2025-06-04T08:12:48.026949Z"
        }
      },
      "outputs": [],
      "execution_count": null
    },
    {
      "cell_type": "code",
      "source": [
        "# Downloading images from internet using the URLs\n",
        "!wget -O cupcakes.jpg https://upload.wikimedia.org/wikipedia/commons/thumb/c/c6/Cupcakes%2C_chocolate_and_strawberry_flavour.jpg/250px-Cupcakes%2C_chocolate_and_strawberry_flavour.jpg\n",
        "!wget -O springrolls.jpg https://upload.wikimedia.org/wikipedia/commons/thumb/2/24/Loenpia_Gang_Lombok_Semarang.jpg/250px-Loenpia_Gang_Lombok_Semarang.jpg\n",
        "!wget -O pizza.jpg https://upload.wikimedia.org/wikipedia/commons/thumb/f/f6/Eataly_Las_Vegas_-_Feb_2019_-_Sarah_Stierch_12.jpg/330px-Eataly_Las_Vegas_-_Feb_2019_-_Sarah_Stierch_12.jpg\n",
        "!wget -O garlicbread.jpg https://upload.wikimedia.org/wikipedia/commons/thumb/5/59/Garlicbread.jpg/250px-Garlicbread.jpg\n",
        "\n",
        "# If you have an image in your local computer and want to try it, uncomment the below code to upload the image files\n",
        "\n",
        "\n",
        "# from google.colab import files\n",
        "# image = files.upload()"
      ],
      "metadata": {
        "_uuid": "199eafdf8dd36430f1bd1236e88745471dda2095",
        "id": "9jhn5e607xml",
        "trusted": true,
        "execution": {
          "iopub.status.busy": "2025-06-04T08:19:59.113742Z",
          "iopub.execute_input": "2025-06-04T08:19:59.114089Z",
          "iopub.status.idle": "2025-06-04T08:20:04.564877Z",
          "shell.execute_reply.started": "2025-06-04T08:19:59.114031Z",
          "shell.execute_reply": "2025-06-04T08:20:04.563894Z"
        }
      },
      "outputs": [],
      "execution_count": null
    },
    {
      "cell_type": "code",
      "source": [
        "# Make a list of downloaded images and test the trained model\n",
        "images = []\n",
        "images.append('cupcakes.jpg')\n",
        "images.append('pizza.jpg')\n",
        "images.append('springrolls.jpg')\n",
        "images.append('garlicbread.jpg')\n",
        "predict_class(model_best, images, True)"
      ],
      "metadata": {
        "_uuid": "f2be475f3d5bf5146f4c02950faa363a9c8a50ff",
        "id": "HAFb8xSj9Ygn",
        "trusted": true,
        "execution": {
          "iopub.status.busy": "2025-06-04T08:20:04.566557Z",
          "iopub.execute_input": "2025-06-04T08:20:04.566873Z",
          "iopub.status.idle": "2025-06-04T08:20:06.547387Z",
          "shell.execute_reply.started": "2025-06-04T08:20:04.566817Z",
          "shell.execute_reply": "2025-06-04T08:20:06.546272Z"
        }
      },
      "outputs": [],
      "execution_count": null
    },
    {
      "cell_type": "markdown",
      "source": [
        "![](https://s3-media2.fl.yelpcdn.com/bphoto/7BlRoSOG3AsAWHMPOaG7ng/ls.jpg)"
      ],
      "metadata": {
        "_uuid": "e076a72315ee7661dbafd2ea268f69a8f0cfec4a",
        "id": "2wEHXTwyI4iJ"
      }
    },
    {
      "cell_type": "markdown",
      "source": [
        "![](https://images.deepai.org/publication-preview/visualizing-and-understanding-convolutional-networks-page-4-medium.jpg)"
      ],
      "metadata": {
        "_uuid": "b8f92d514ef6a0a130d07f428155b4cbf51d08b7",
        "id": "-bC5wQ9FI4iJ"
      }
    },
    {
      "cell_type": "code",
      "source": [
        "# Load the saved model trained with 3 classes\n",
        "K.clear_session()\n",
        "print(\"Loading the model..\")\n",
        "model = load_model('best_model_3class.hdf5',compile = False)\n",
        "print(\"Done!\")\n"
      ],
      "metadata": {
        "trusted": true,
        "_uuid": "93d8f5442332a744f63e85254e4606ced953432b",
        "execution": {
          "iopub.status.busy": "2025-06-04T08:20:06.548752Z",
          "iopub.execute_input": "2025-06-04T08:20:06.549097Z",
          "iopub.status.idle": "2025-06-04T08:20:15.863515Z",
          "shell.execute_reply.started": "2025-06-04T08:20:06.549042Z",
          "shell.execute_reply": "2025-06-04T08:20:15.862686Z"
        },
        "id": "S9ksZEJdI4iJ"
      },
      "outputs": [],
      "execution_count": null
    },
    {
      "cell_type": "code",
      "source": [
        "model.summary()"
      ],
      "metadata": {
        "trusted": true,
        "_uuid": "aba498e59b48d5c754e4c9658d0265fdf4672ec3",
        "execution": {
          "iopub.status.busy": "2025-06-04T08:20:15.864814Z",
          "iopub.execute_input": "2025-06-04T08:20:15.865052Z",
          "iopub.status.idle": "2025-06-04T08:20:15.926012Z",
          "shell.execute_reply.started": "2025-06-04T08:20:15.865001Z",
          "shell.execute_reply": "2025-06-04T08:20:15.92513Z"
        },
        "id": "UHWpGiOwI4iJ"
      },
      "outputs": [],
      "execution_count": null
    },
    {
      "cell_type": "code",
      "source": [
        "def deprocess_image(x):\n",
        "    # normalize tensor: center on 0., ensure std is 0.1\n",
        "    x -= x.mean()\n",
        "    x /= (x.std() + 1e-5)\n",
        "    x *= 0.1\n",
        "\n",
        "    # clip to [0, 1]\n",
        "    x += 0.5\n",
        "    x = np.clip(x, 0, 1)\n",
        "\n",
        "    # convert to RGB array\n",
        "    x *= 255\n",
        "    x = np.clip(x, 0, 255).astype('uint8')\n",
        "    return x\n"
      ],
      "metadata": {
        "trusted": true,
        "_uuid": "763f8eaa413fe08e4ca740b77f367a3ccfa8864e",
        "execution": {
          "iopub.status.busy": "2025-06-04T08:20:15.927142Z",
          "iopub.execute_input": "2025-06-04T08:20:15.927368Z",
          "iopub.status.idle": "2025-06-04T08:20:15.931667Z",
          "shell.execute_reply.started": "2025-06-04T08:20:15.92733Z",
          "shell.execute_reply": "2025-06-04T08:20:15.930741Z"
        },
        "id": "lDP22SUxI4iJ"
      },
      "outputs": [],
      "execution_count": null
    },
    {
      "cell_type": "code",
      "source": [
        "def generate_pattern(layer_name, filter_index, size=150):\n",
        "    # Build a loss function that maximizes the activation\n",
        "    # of the nth filter of the layer considered.\n",
        "    layer_output = model.get_layer(layer_name).output\n",
        "    loss = K.mean(layer_output[:, :, :, filter_index])\n",
        "\n",
        "    # Compute the gradient of the input picture wrt this loss\n",
        "    grads = K.gradients(loss, model.input)[0]\n",
        "\n",
        "    # Normalization trick: we normalize the gradient\n",
        "    grads /= (K.sqrt(K.mean(K.square(grads))) + 1e-5)\n",
        "\n",
        "    # This function returns the loss and grads given the input picture\n",
        "    iterate = K.function([model.input], [loss, grads])\n",
        "\n",
        "    # We start from a gray image with some noise\n",
        "    input_img_data = np.random.random((1, size, size, 3)) * 20 + 128.\n",
        "\n",
        "    # Run gradient ascent for 40 steps\n",
        "    step = 1.\n",
        "    for i in range(40):\n",
        "        loss_value, grads_value = iterate([input_img_data])\n",
        "        input_img_data += grads_value * step\n",
        "\n",
        "    img = input_img_data[0]\n",
        "    return deprocess_image(img)"
      ],
      "metadata": {
        "trusted": true,
        "_uuid": "ac5fe6f82f0087295b81938da751bc3f6e90bc28",
        "execution": {
          "iopub.status.busy": "2025-06-04T08:20:15.932785Z",
          "iopub.execute_input": "2025-06-04T08:20:15.933001Z",
          "iopub.status.idle": "2025-06-04T08:20:15.944628Z",
          "shell.execute_reply.started": "2025-06-04T08:20:15.932956Z",
          "shell.execute_reply": "2025-06-04T08:20:15.943709Z"
        },
        "id": "62mQWXj_I4iJ"
      },
      "outputs": [],
      "execution_count": null
    },
    {
      "cell_type": "code",
      "source": [
        "def get_activations(img, model_activations):\n",
        "    img = image.load_img(img, target_size=(299, 299))\n",
        "    img = image.img_to_array(img)\n",
        "    img = np.expand_dims(img, axis=0)\n",
        "    img /= 255.\n",
        "    plt.imshow(img[0])\n",
        "    plt.show()\n",
        "    return model_activations.predict(img)\n"
      ],
      "metadata": {
        "trusted": true,
        "_uuid": "ce5c9c5a88e68022c5e90399de25124476d1109a",
        "execution": {
          "iopub.status.busy": "2025-06-04T08:20:15.9458Z",
          "iopub.execute_input": "2025-06-04T08:20:15.946069Z",
          "iopub.status.idle": "2025-06-04T08:20:15.960444Z",
          "shell.execute_reply.started": "2025-06-04T08:20:15.945983Z",
          "shell.execute_reply": "2025-06-04T08:20:15.959469Z"
        },
        "id": "aDXL-DAxI4iK"
      },
      "outputs": [],
      "execution_count": null
    },
    {
      "cell_type": "code",
      "source": [
        "def show_activations(activations, layer_names):\n",
        "\n",
        "    images_per_row = 16\n",
        "\n",
        "    # Now let's display our feature maps\n",
        "    for layer_name, layer_activation in zip(layer_names, activations):\n",
        "        # This is the number of features in the feature map\n",
        "        n_features = layer_activation.shape[-1]\n",
        "\n",
        "        # The feature map has shape (1, size, size, n_features)\n",
        "        size = layer_activation.shape[1]\n",
        "\n",
        "        # We will tile the activation channels in this matrix\n",
        "        n_cols = n_features // images_per_row\n",
        "        display_grid = np.zeros((size * n_cols, images_per_row * size))\n",
        "\n",
        "        # We'll tile each filter into this big horizontal grid\n",
        "        for col in range(n_cols):\n",
        "            for row in range(images_per_row):\n",
        "                channel_image = layer_activation[0,\n",
        "                                                 :, :,\n",
        "                                                 col * images_per_row + row]\n",
        "                # Post-process the feature to make it visually palatable\n",
        "                channel_image -= channel_image.mean()\n",
        "                channel_image /= channel_image.std()\n",
        "                channel_image *= 64\n",
        "                channel_image += 128\n",
        "                channel_image = np.clip(channel_image, 0, 255).astype('uint8')\n",
        "                display_grid[col * size : (col + 1) * size,\n",
        "                             row * size : (row + 1) * size] = channel_image\n",
        "\n",
        "        # Display the grid\n",
        "        scale = 1. / size\n",
        "        plt.figure(figsize=(scale * display_grid.shape[1],\n",
        "                            scale * display_grid.shape[0]))\n",
        "        plt.title(layer_name)\n",
        "        plt.grid(False)\n",
        "        plt.imshow(display_grid, aspect='auto', cmap='viridis')\n",
        "\n",
        "    plt.show()\n",
        "\n"
      ],
      "metadata": {
        "trusted": true,
        "_uuid": "faa487b2c9aa71ed61acaba24e3bf5902d60dcb5",
        "execution": {
          "iopub.status.busy": "2025-06-04T08:20:15.962373Z",
          "iopub.execute_input": "2025-06-04T08:20:15.962577Z",
          "iopub.status.idle": "2025-06-04T08:20:15.975377Z",
          "shell.execute_reply.started": "2025-06-04T08:20:15.962541Z",
          "shell.execute_reply": "2025-06-04T08:20:15.974678Z"
        },
        "id": "em1sMXavI4iK"
      },
      "outputs": [],
      "execution_count": null
    },
    {
      "cell_type": "code",
      "source": [
        "len(model.layers)"
      ],
      "metadata": {
        "trusted": true,
        "_uuid": "4c26dfe3bc711db01646145bb4308021dfe4a45a",
        "execution": {
          "iopub.status.busy": "2025-06-04T08:20:15.976931Z",
          "iopub.execute_input": "2025-06-04T08:20:15.977168Z",
          "iopub.status.idle": "2025-06-04T08:20:15.994035Z",
          "shell.execute_reply.started": "2025-06-04T08:20:15.977106Z",
          "shell.execute_reply": "2025-06-04T08:20:15.993393Z"
        },
        "id": "9sWpijNII4iK"
      },
      "outputs": [],
      "execution_count": null
    },
    {
      "cell_type": "code",
      "source": [
        "# We start with index 1 instead of 0, as input layer is at index 0\n",
        "layers = [layer.output for layer in model.layers[1:11]]\n",
        "# We now initialize a model which takes an input and outputs the above chosen layers\n",
        "activations_output = models.Model(inputs=model.input, outputs=layers)"
      ],
      "metadata": {
        "trusted": true,
        "_uuid": "d620cf1653800e476661eb6f39043b08efdb17a8",
        "execution": {
          "iopub.status.busy": "2025-06-04T08:20:15.995037Z",
          "iopub.execute_input": "2025-06-04T08:20:15.995266Z",
          "iopub.status.idle": "2025-06-04T08:20:16.006844Z",
          "shell.execute_reply.started": "2025-06-04T08:20:15.99522Z",
          "shell.execute_reply": "2025-06-04T08:20:16.005744Z"
        },
        "id": "pKTgRhWYI4iK",
        "colab": {
          "base_uri": "https://localhost:8080/",
          "height": 193
        },
        "outputId": "5a394bf2-b86f-49a5-9357-65654c7e4c06"
      },
      "outputs": [
        {
          "output_type": "error",
          "ename": "NameError",
          "evalue": "name 'model' is not defined",
          "traceback": [
            "\u001b[0;31m---------------------------------------------------------------------------\u001b[0m",
            "\u001b[0;31mNameError\u001b[0m                                 Traceback (most recent call last)",
            "\u001b[0;32m/tmp/ipython-input-47-3316962776.py\u001b[0m in \u001b[0;36m<cell line: 0>\u001b[0;34m()\u001b[0m\n\u001b[1;32m      1\u001b[0m \u001b[0;31m# We start with index 1 instead of 0, as input layer is at index 0\u001b[0m\u001b[0;34m\u001b[0m\u001b[0;34m\u001b[0m\u001b[0m\n\u001b[0;32m----> 2\u001b[0;31m \u001b[0mlayers\u001b[0m \u001b[0;34m=\u001b[0m \u001b[0;34m[\u001b[0m\u001b[0mlayer\u001b[0m\u001b[0;34m.\u001b[0m\u001b[0moutput\u001b[0m \u001b[0;32mfor\u001b[0m \u001b[0mlayer\u001b[0m \u001b[0;32min\u001b[0m \u001b[0mmodel\u001b[0m\u001b[0;34m.\u001b[0m\u001b[0mlayers\u001b[0m\u001b[0;34m[\u001b[0m\u001b[0;36m1\u001b[0m\u001b[0;34m:\u001b[0m\u001b[0;36m11\u001b[0m\u001b[0;34m]\u001b[0m\u001b[0;34m]\u001b[0m\u001b[0;34m\u001b[0m\u001b[0;34m\u001b[0m\u001b[0m\n\u001b[0m\u001b[1;32m      3\u001b[0m \u001b[0;31m# We now initialize a model which takes an input and outputs the above chosen layers\u001b[0m\u001b[0;34m\u001b[0m\u001b[0;34m\u001b[0m\u001b[0m\n\u001b[1;32m      4\u001b[0m \u001b[0mactivations_output\u001b[0m \u001b[0;34m=\u001b[0m \u001b[0mmodels\u001b[0m\u001b[0;34m.\u001b[0m\u001b[0mModel\u001b[0m\u001b[0;34m(\u001b[0m\u001b[0minputs\u001b[0m\u001b[0;34m=\u001b[0m\u001b[0mmodel\u001b[0m\u001b[0;34m.\u001b[0m\u001b[0minput\u001b[0m\u001b[0;34m,\u001b[0m \u001b[0moutputs\u001b[0m\u001b[0;34m=\u001b[0m\u001b[0mlayers\u001b[0m\u001b[0;34m)\u001b[0m\u001b[0;34m\u001b[0m\u001b[0;34m\u001b[0m\u001b[0m\n",
            "\u001b[0;31mNameError\u001b[0m: name 'model' is not defined"
          ]
        }
      ],
      "execution_count": null
    },
    {
      "cell_type": "code",
      "source": [
        "layers"
      ],
      "metadata": {
        "trusted": true,
        "_uuid": "9ab2b5edbbde744049def8d1f82bc108b908b530",
        "execution": {
          "iopub.status.busy": "2025-06-04T08:20:16.008768Z",
          "iopub.execute_input": "2025-06-04T08:20:16.00906Z",
          "iopub.status.idle": "2025-06-04T08:20:16.023474Z",
          "shell.execute_reply.started": "2025-06-04T08:20:16.009Z",
          "shell.execute_reply": "2025-06-04T08:20:16.022555Z"
        },
        "id": "LTXW5cieI4iK"
      },
      "outputs": [],
      "execution_count": null
    },
    {
      "cell_type": "code",
      "source": [
        "layer_names = []\n",
        "for layer in model.layers[1:11]:\n",
        "    layer_names.append(layer.name)\n",
        "print(layer_names)"
      ],
      "metadata": {
        "trusted": true,
        "_uuid": "ec899b27f7042c4f5a01fd2111e9df4133a155bf",
        "execution": {
          "iopub.status.busy": "2025-06-04T08:20:16.024599Z",
          "iopub.execute_input": "2025-06-04T08:20:16.02487Z",
          "iopub.status.idle": "2025-06-04T08:20:16.037812Z",
          "shell.execute_reply.started": "2025-06-04T08:20:16.024814Z",
          "shell.execute_reply": "2025-06-04T08:20:16.036883Z"
        },
        "id": "XAV9H-VwI4iK",
        "colab": {
          "base_uri": "https://localhost:8080/",
          "height": 193
        },
        "outputId": "0c0284bf-2f1a-4909-e396-7472f21b7858"
      },
      "outputs": [
        {
          "output_type": "error",
          "ename": "NameError",
          "evalue": "name 'model' is not defined",
          "traceback": [
            "\u001b[0;31m---------------------------------------------------------------------------\u001b[0m",
            "\u001b[0;31mNameError\u001b[0m                                 Traceback (most recent call last)",
            "\u001b[0;32m/tmp/ipython-input-46-2413075627.py\u001b[0m in \u001b[0;36m<cell line: 0>\u001b[0;34m()\u001b[0m\n\u001b[1;32m      1\u001b[0m \u001b[0mlayer_names\u001b[0m \u001b[0;34m=\u001b[0m \u001b[0;34m[\u001b[0m\u001b[0;34m]\u001b[0m\u001b[0;34m\u001b[0m\u001b[0;34m\u001b[0m\u001b[0m\n\u001b[0;32m----> 2\u001b[0;31m \u001b[0;32mfor\u001b[0m \u001b[0mlayer\u001b[0m \u001b[0;32min\u001b[0m \u001b[0mmodel\u001b[0m\u001b[0;34m.\u001b[0m\u001b[0mlayers\u001b[0m\u001b[0;34m[\u001b[0m\u001b[0;36m1\u001b[0m\u001b[0;34m:\u001b[0m\u001b[0;36m11\u001b[0m\u001b[0;34m]\u001b[0m\u001b[0;34m:\u001b[0m\u001b[0;34m\u001b[0m\u001b[0;34m\u001b[0m\u001b[0m\n\u001b[0m\u001b[1;32m      3\u001b[0m     \u001b[0mlayer_names\u001b[0m\u001b[0;34m.\u001b[0m\u001b[0mappend\u001b[0m\u001b[0;34m(\u001b[0m\u001b[0mlayer\u001b[0m\u001b[0;34m.\u001b[0m\u001b[0mname\u001b[0m\u001b[0;34m)\u001b[0m\u001b[0;34m\u001b[0m\u001b[0;34m\u001b[0m\u001b[0m\n\u001b[1;32m      4\u001b[0m \u001b[0mprint\u001b[0m\u001b[0;34m(\u001b[0m\u001b[0mlayer_names\u001b[0m\u001b[0;34m)\u001b[0m\u001b[0;34m\u001b[0m\u001b[0;34m\u001b[0m\u001b[0m\n",
            "\u001b[0;31mNameError\u001b[0m: name 'model' is not defined"
          ]
        }
      ],
      "execution_count": null
    },
    {
      "cell_type": "code",
      "source": [
        "food = 'applepie.jpg'\n",
        "activations = get_activations(food,activations_output)"
      ],
      "metadata": {
        "trusted": true,
        "_uuid": "eb23311a44ef7f2ee4db3c015ed0d790fbc7c28e",
        "execution": {
          "iopub.status.busy": "2025-06-04T08:20:16.039499Z",
          "iopub.execute_input": "2025-06-04T08:20:16.039679Z",
          "iopub.status.idle": "2025-06-04T08:20:16.607601Z",
          "shell.execute_reply.started": "2025-06-04T08:20:16.039648Z",
          "shell.execute_reply": "2025-06-04T08:20:16.607009Z"
        },
        "id": "xg7ZvHlDI4iK"
      },
      "outputs": [],
      "execution_count": null
    },
    {
      "cell_type": "code",
      "source": [
        "show_activations(activations, layer_names)"
      ],
      "metadata": {
        "trusted": true,
        "_uuid": "57e595c6d6ec1862f58829a214105f94e234bd2c",
        "execution": {
          "iopub.status.busy": "2025-06-04T08:20:16.609033Z",
          "iopub.execute_input": "2025-06-04T08:20:16.609464Z",
          "iopub.status.idle": "2025-06-04T08:20:20.600875Z",
          "shell.execute_reply.started": "2025-06-04T08:20:16.609282Z",
          "shell.execute_reply": "2025-06-04T08:20:20.600253Z"
        },
        "id": "XurTCixRI4iL",
        "colab": {
          "base_uri": "https://localhost:8080/",
          "height": 141
        },
        "outputId": "f6d6cf1c-a05e-4068-b23b-4fdda9e888ab"
      },
      "outputs": [
        {
          "output_type": "error",
          "ename": "NameError",
          "evalue": "name 'show_activations' is not defined",
          "traceback": [
            "\u001b[0;31m---------------------------------------------------------------------------\u001b[0m",
            "\u001b[0;31mNameError\u001b[0m                                 Traceback (most recent call last)",
            "\u001b[0;32m/tmp/ipython-input-45-3416134225.py\u001b[0m in \u001b[0;36m<cell line: 0>\u001b[0;34m()\u001b[0m\n\u001b[0;32m----> 1\u001b[0;31m \u001b[0mshow_activations\u001b[0m\u001b[0;34m(\u001b[0m\u001b[0mactivations\u001b[0m\u001b[0;34m,\u001b[0m \u001b[0mlayer_names\u001b[0m\u001b[0;34m)\u001b[0m\u001b[0;34m\u001b[0m\u001b[0;34m\u001b[0m\u001b[0m\n\u001b[0m",
            "\u001b[0;31mNameError\u001b[0m: name 'show_activations' is not defined"
          ]
        }
      ],
      "execution_count": null
    },
    {
      "cell_type": "code",
      "source": [
        "food = 'pizza.jpg'\n",
        "activations = get_activations(food,activations_output)"
      ],
      "metadata": {
        "trusted": true,
        "_uuid": "d30e9ea4b9b0ecb4fe1a40d971217d9152e278e5",
        "execution": {
          "iopub.status.busy": "2025-06-04T08:20:20.601909Z",
          "iopub.execute_input": "2025-06-04T08:20:20.602167Z",
          "iopub.status.idle": "2025-06-04T08:20:20.895447Z",
          "shell.execute_reply.started": "2025-06-04T08:20:20.602103Z",
          "shell.execute_reply": "2025-06-04T08:20:20.8943Z"
        },
        "id": "rSS_JSuhI4iL",
        "colab": {
          "base_uri": "https://localhost:8080/",
          "height": 158
        },
        "outputId": "aefb650f-23ad-43ec-80a9-7313b8ff5bdd"
      },
      "outputs": [
        {
          "output_type": "error",
          "ename": "NameError",
          "evalue": "name 'get_activations' is not defined",
          "traceback": [
            "\u001b[0;31m---------------------------------------------------------------------------\u001b[0m",
            "\u001b[0;31mNameError\u001b[0m                                 Traceback (most recent call last)",
            "\u001b[0;32m/tmp/ipython-input-43-2525529385.py\u001b[0m in \u001b[0;36m<cell line: 0>\u001b[0;34m()\u001b[0m\n\u001b[1;32m      1\u001b[0m \u001b[0mfood\u001b[0m \u001b[0;34m=\u001b[0m \u001b[0;34m'pizza.jpg'\u001b[0m\u001b[0;34m\u001b[0m\u001b[0;34m\u001b[0m\u001b[0m\n\u001b[0;32m----> 2\u001b[0;31m \u001b[0mactivations\u001b[0m \u001b[0;34m=\u001b[0m \u001b[0mget_activations\u001b[0m\u001b[0;34m(\u001b[0m\u001b[0mfood\u001b[0m\u001b[0;34m,\u001b[0m\u001b[0mactivations_output\u001b[0m\u001b[0;34m)\u001b[0m\u001b[0;34m\u001b[0m\u001b[0;34m\u001b[0m\u001b[0m\n\u001b[0m",
            "\u001b[0;31mNameError\u001b[0m: name 'get_activations' is not defined"
          ]
        }
      ],
      "execution_count": null
    },
    {
      "cell_type": "code",
      "source": [
        "show_activations(activations, layer_names)"
      ],
      "metadata": {
        "trusted": true,
        "_uuid": "929114553760fb3d2e1c8259c65700f1b879e535",
        "execution": {
          "iopub.status.busy": "2025-06-04T08:20:20.896842Z",
          "iopub.execute_input": "2025-06-04T08:20:20.897136Z",
          "iopub.status.idle": "2025-06-04T08:20:24.683467Z",
          "shell.execute_reply.started": "2025-06-04T08:20:20.897079Z",
          "shell.execute_reply": "2025-06-04T08:20:24.682768Z"
        },
        "id": "YVJIhATyI4iL",
        "colab": {
          "base_uri": "https://localhost:8080/",
          "height": 141
        },
        "outputId": "9a1f1f8f-df7b-402b-89be-0a2bdc206cbb"
      },
      "outputs": [
        {
          "output_type": "error",
          "ename": "NameError",
          "evalue": "name 'show_activations' is not defined",
          "traceback": [
            "\u001b[0;31m---------------------------------------------------------------------------\u001b[0m",
            "\u001b[0;31mNameError\u001b[0m                                 Traceback (most recent call last)",
            "\u001b[0;32m/tmp/ipython-input-44-3416134225.py\u001b[0m in \u001b[0;36m<cell line: 0>\u001b[0;34m()\u001b[0m\n\u001b[0;32m----> 1\u001b[0;31m \u001b[0mshow_activations\u001b[0m\u001b[0;34m(\u001b[0m\u001b[0mactivations\u001b[0m\u001b[0;34m,\u001b[0m \u001b[0mlayer_names\u001b[0m\u001b[0;34m)\u001b[0m\u001b[0;34m\u001b[0m\u001b[0;34m\u001b[0m\u001b[0m\n\u001b[0m",
            "\u001b[0;31mNameError\u001b[0m: name 'show_activations' is not defined"
          ]
        }
      ],
      "execution_count": null
    },
    {
      "cell_type": "code",
      "source": [
        "# Get the index of activation_1 layer which has sparse activations\n",
        "ind = layer_names.index('activation_1')\n",
        "sparse_activation = activations[ind]\n",
        "a = sparse_activation[0, :, :, 13]\n",
        "a"
      ],
      "metadata": {
        "trusted": true,
        "_uuid": "ca1fc478ca3f4f8c5a45c8674194860de31648af",
        "execution": {
          "iopub.status.busy": "2025-06-04T08:20:24.684814Z",
          "iopub.execute_input": "2025-06-04T08:20:24.685064Z",
          "iopub.status.idle": "2025-06-04T08:20:24.690927Z",
          "shell.execute_reply.started": "2025-06-04T08:20:24.685014Z",
          "shell.execute_reply": "2025-06-04T08:20:24.690272Z"
        },
        "id": "fCISDiyDI4iL",
        "colab": {
          "base_uri": "https://localhost:8080/",
          "height": 211
        },
        "outputId": "454243d3-ab72-42da-9413-f3b258b5d570"
      },
      "outputs": [
        {
          "output_type": "error",
          "ename": "NameError",
          "evalue": "name 'layer_names' is not defined",
          "traceback": [
            "\u001b[0;31m---------------------------------------------------------------------------\u001b[0m",
            "\u001b[0;31mNameError\u001b[0m                                 Traceback (most recent call last)",
            "\u001b[0;32m/tmp/ipython-input-42-1325840664.py\u001b[0m in \u001b[0;36m<cell line: 0>\u001b[0;34m()\u001b[0m\n\u001b[1;32m      1\u001b[0m \u001b[0;31m# Get the index of activation_1 layer which has sparse activations\u001b[0m\u001b[0;34m\u001b[0m\u001b[0;34m\u001b[0m\u001b[0m\n\u001b[0;32m----> 2\u001b[0;31m \u001b[0mind\u001b[0m \u001b[0;34m=\u001b[0m \u001b[0mlayer_names\u001b[0m\u001b[0;34m.\u001b[0m\u001b[0mindex\u001b[0m\u001b[0;34m(\u001b[0m\u001b[0;34m'activation_1'\u001b[0m\u001b[0;34m)\u001b[0m\u001b[0;34m\u001b[0m\u001b[0;34m\u001b[0m\u001b[0m\n\u001b[0m\u001b[1;32m      3\u001b[0m \u001b[0msparse_activation\u001b[0m \u001b[0;34m=\u001b[0m \u001b[0mactivations\u001b[0m\u001b[0;34m[\u001b[0m\u001b[0mind\u001b[0m\u001b[0;34m]\u001b[0m\u001b[0;34m\u001b[0m\u001b[0;34m\u001b[0m\u001b[0m\n\u001b[1;32m      4\u001b[0m \u001b[0ma\u001b[0m \u001b[0;34m=\u001b[0m \u001b[0msparse_activation\u001b[0m\u001b[0;34m[\u001b[0m\u001b[0;36m0\u001b[0m\u001b[0;34m,\u001b[0m \u001b[0;34m:\u001b[0m\u001b[0;34m,\u001b[0m \u001b[0;34m:\u001b[0m\u001b[0;34m,\u001b[0m \u001b[0;36m13\u001b[0m\u001b[0;34m]\u001b[0m\u001b[0;34m\u001b[0m\u001b[0;34m\u001b[0m\u001b[0m\n\u001b[1;32m      5\u001b[0m \u001b[0ma\u001b[0m\u001b[0;34m\u001b[0m\u001b[0;34m\u001b[0m\u001b[0m\n",
            "\u001b[0;31mNameError\u001b[0m: name 'layer_names' is not defined"
          ]
        }
      ],
      "execution_count": null
    },
    {
      "cell_type": "code",
      "source": [
        "all (np.isnan(a[j][k])  for j in range(a.shape[0]) for k in range(a.shape[1]))"
      ],
      "metadata": {
        "trusted": true,
        "_uuid": "c7872185d48380e88e4432e3cdabac26681d6d88",
        "execution": {
          "iopub.status.busy": "2025-06-04T08:20:24.692169Z",
          "iopub.execute_input": "2025-06-04T08:20:24.692448Z",
          "iopub.status.idle": "2025-06-04T08:20:24.737679Z",
          "shell.execute_reply.started": "2025-06-04T08:20:24.692396Z",
          "shell.execute_reply": "2025-06-04T08:20:24.736863Z"
        },
        "id": "uBOtI4e2I4iL",
        "colab": {
          "base_uri": "https://localhost:8080/",
          "height": 141
        },
        "outputId": "3e37978c-a027-4b2f-85bb-db8503d77ae9"
      },
      "outputs": [
        {
          "output_type": "error",
          "ename": "NameError",
          "evalue": "name 'a' is not defined",
          "traceback": [
            "\u001b[0;31m---------------------------------------------------------------------------\u001b[0m",
            "\u001b[0;31mNameError\u001b[0m                                 Traceback (most recent call last)",
            "\u001b[0;32m/tmp/ipython-input-41-1764913391.py\u001b[0m in \u001b[0;36m<cell line: 0>\u001b[0;34m()\u001b[0m\n\u001b[0;32m----> 1\u001b[0;31m \u001b[0mall\u001b[0m \u001b[0;34m(\u001b[0m\u001b[0mnp\u001b[0m\u001b[0;34m.\u001b[0m\u001b[0misnan\u001b[0m\u001b[0;34m(\u001b[0m\u001b[0ma\u001b[0m\u001b[0;34m[\u001b[0m\u001b[0mj\u001b[0m\u001b[0;34m]\u001b[0m\u001b[0;34m[\u001b[0m\u001b[0mk\u001b[0m\u001b[0;34m]\u001b[0m\u001b[0;34m)\u001b[0m  \u001b[0;32mfor\u001b[0m \u001b[0mj\u001b[0m \u001b[0;32min\u001b[0m \u001b[0mrange\u001b[0m\u001b[0;34m(\u001b[0m\u001b[0ma\u001b[0m\u001b[0;34m.\u001b[0m\u001b[0mshape\u001b[0m\u001b[0;34m[\u001b[0m\u001b[0;36m0\u001b[0m\u001b[0;34m]\u001b[0m\u001b[0;34m)\u001b[0m \u001b[0;32mfor\u001b[0m \u001b[0mk\u001b[0m \u001b[0;32min\u001b[0m \u001b[0mrange\u001b[0m\u001b[0;34m(\u001b[0m\u001b[0ma\u001b[0m\u001b[0;34m.\u001b[0m\u001b[0mshape\u001b[0m\u001b[0;34m[\u001b[0m\u001b[0;36m1\u001b[0m\u001b[0;34m]\u001b[0m\u001b[0;34m)\u001b[0m\u001b[0;34m)\u001b[0m\u001b[0;34m\u001b[0m\u001b[0;34m\u001b[0m\u001b[0m\n\u001b[0m",
            "\u001b[0;31mNameError\u001b[0m: name 'a' is not defined"
          ]
        }
      ],
      "execution_count": null
    },
    {
      "cell_type": "code",
      "source": [
        "# Get the index of batch_normalization_1 layer which has sparse activations\n",
        "ind = layer_names.index('batch_normalization_1')\n",
        "sparse_activation = activations[ind]\n",
        "b = sparse_activation[0, :, :, 13]\n",
        "b"
      ],
      "metadata": {
        "trusted": true,
        "_uuid": "7d36fe148ec69c70f9db5e294bd12b8ac5743c05",
        "execution": {
          "iopub.status.busy": "2025-06-04T08:20:24.738976Z",
          "iopub.execute_input": "2025-06-04T08:20:24.739278Z",
          "iopub.status.idle": "2025-06-04T08:20:24.745438Z",
          "shell.execute_reply.started": "2025-06-04T08:20:24.739222Z",
          "shell.execute_reply": "2025-06-04T08:20:24.744748Z"
        },
        "id": "92ieJ2bJI4iL",
        "colab": {
          "base_uri": "https://localhost:8080/",
          "height": 211
        },
        "outputId": "ebe9467d-9821-4d5b-df65-f73236b8859a"
      },
      "outputs": [
        {
          "output_type": "error",
          "ename": "NameError",
          "evalue": "name 'layer_names' is not defined",
          "traceback": [
            "\u001b[0;31m---------------------------------------------------------------------------\u001b[0m",
            "\u001b[0;31mNameError\u001b[0m                                 Traceback (most recent call last)",
            "\u001b[0;32m/tmp/ipython-input-40-876034009.py\u001b[0m in \u001b[0;36m<cell line: 0>\u001b[0;34m()\u001b[0m\n\u001b[1;32m      1\u001b[0m \u001b[0;31m# Get the index of batch_normalization_1 layer which has sparse activations\u001b[0m\u001b[0;34m\u001b[0m\u001b[0;34m\u001b[0m\u001b[0m\n\u001b[0;32m----> 2\u001b[0;31m \u001b[0mind\u001b[0m \u001b[0;34m=\u001b[0m \u001b[0mlayer_names\u001b[0m\u001b[0;34m.\u001b[0m\u001b[0mindex\u001b[0m\u001b[0;34m(\u001b[0m\u001b[0;34m'batch_normalization_1'\u001b[0m\u001b[0;34m)\u001b[0m\u001b[0;34m\u001b[0m\u001b[0;34m\u001b[0m\u001b[0m\n\u001b[0m\u001b[1;32m      3\u001b[0m \u001b[0msparse_activation\u001b[0m \u001b[0;34m=\u001b[0m \u001b[0mactivations\u001b[0m\u001b[0;34m[\u001b[0m\u001b[0mind\u001b[0m\u001b[0;34m]\u001b[0m\u001b[0;34m\u001b[0m\u001b[0;34m\u001b[0m\u001b[0m\n\u001b[1;32m      4\u001b[0m \u001b[0mb\u001b[0m \u001b[0;34m=\u001b[0m \u001b[0msparse_activation\u001b[0m\u001b[0;34m[\u001b[0m\u001b[0;36m0\u001b[0m\u001b[0;34m,\u001b[0m \u001b[0;34m:\u001b[0m\u001b[0;34m,\u001b[0m \u001b[0;34m:\u001b[0m\u001b[0;34m,\u001b[0m \u001b[0;36m13\u001b[0m\u001b[0;34m]\u001b[0m\u001b[0;34m\u001b[0m\u001b[0;34m\u001b[0m\u001b[0m\n\u001b[1;32m      5\u001b[0m \u001b[0mb\u001b[0m\u001b[0;34m\u001b[0m\u001b[0;34m\u001b[0m\u001b[0m\n",
            "\u001b[0;31mNameError\u001b[0m: name 'layer_names' is not defined"
          ]
        }
      ],
      "execution_count": null
    },
    {
      "cell_type": "code",
      "source": [
        "first_convlayer_activation = activations[0]\n",
        "second_convlayer_activation = activations[3]\n",
        "third_convlayer_activation = activations[6]\n",
        "f,ax = plt.subplots(1,3, figsize=(10,10))\n",
        "ax[0].imshow(first_convlayer_activation[0, :, :, 3], cmap='viridis')\n",
        "ax[0].axis('OFF')\n",
        "ax[0].set_title('Conv2d_1')\n",
        "ax[1].imshow(second_convlayer_activation[0, :, :, 3], cmap='viridis')\n",
        "ax[1].axis('OFF')\n",
        "ax[1].set_title('Conv2d_2')\n",
        "ax[2].imshow(third_convlayer_activation[0, :, :, 3], cmap='viridis')\n",
        "ax[2].axis('OFF')\n",
        "ax[2].set_title('Conv2d_3')\n"
      ],
      "metadata": {
        "trusted": true,
        "_uuid": "2aa73920abb8c4e96b3f9f1d49c5bc9b3e3384f7",
        "execution": {
          "iopub.status.busy": "2025-06-04T08:20:24.746653Z",
          "iopub.execute_input": "2025-06-04T08:20:24.746897Z",
          "iopub.status.idle": "2025-06-04T08:20:25.120404Z",
          "shell.execute_reply.started": "2025-06-04T08:20:24.746844Z",
          "shell.execute_reply": "2025-06-04T08:20:25.119628Z"
        },
        "id": "Cyddj1voI4iL",
        "colab": {
          "base_uri": "https://localhost:8080/",
          "height": 211
        },
        "outputId": "4652a57f-a0c9-49a0-88a9-e0a40458b76b"
      },
      "outputs": [
        {
          "output_type": "error",
          "ename": "NameError",
          "evalue": "name 'activations' is not defined",
          "traceback": [
            "\u001b[0;31m---------------------------------------------------------------------------\u001b[0m",
            "\u001b[0;31mNameError\u001b[0m                                 Traceback (most recent call last)",
            "\u001b[0;32m/tmp/ipython-input-39-4221178394.py\u001b[0m in \u001b[0;36m<cell line: 0>\u001b[0;34m()\u001b[0m\n\u001b[0;32m----> 1\u001b[0;31m \u001b[0mfirst_convlayer_activation\u001b[0m \u001b[0;34m=\u001b[0m \u001b[0mactivations\u001b[0m\u001b[0;34m[\u001b[0m\u001b[0;36m0\u001b[0m\u001b[0;34m]\u001b[0m\u001b[0;34m\u001b[0m\u001b[0;34m\u001b[0m\u001b[0m\n\u001b[0m\u001b[1;32m      2\u001b[0m \u001b[0msecond_convlayer_activation\u001b[0m \u001b[0;34m=\u001b[0m \u001b[0mactivations\u001b[0m\u001b[0;34m[\u001b[0m\u001b[0;36m3\u001b[0m\u001b[0;34m]\u001b[0m\u001b[0;34m\u001b[0m\u001b[0;34m\u001b[0m\u001b[0m\n\u001b[1;32m      3\u001b[0m \u001b[0mthird_convlayer_activation\u001b[0m \u001b[0;34m=\u001b[0m \u001b[0mactivations\u001b[0m\u001b[0;34m[\u001b[0m\u001b[0;36m6\u001b[0m\u001b[0;34m]\u001b[0m\u001b[0;34m\u001b[0m\u001b[0;34m\u001b[0m\u001b[0m\n\u001b[1;32m      4\u001b[0m \u001b[0mf\u001b[0m\u001b[0;34m,\u001b[0m\u001b[0max\u001b[0m \u001b[0;34m=\u001b[0m \u001b[0mplt\u001b[0m\u001b[0;34m.\u001b[0m\u001b[0msubplots\u001b[0m\u001b[0;34m(\u001b[0m\u001b[0;36m1\u001b[0m\u001b[0;34m,\u001b[0m\u001b[0;36m3\u001b[0m\u001b[0;34m,\u001b[0m \u001b[0mfigsize\u001b[0m\u001b[0;34m=\u001b[0m\u001b[0;34m(\u001b[0m\u001b[0;36m10\u001b[0m\u001b[0;34m,\u001b[0m\u001b[0;36m10\u001b[0m\u001b[0;34m)\u001b[0m\u001b[0;34m)\u001b[0m\u001b[0;34m\u001b[0m\u001b[0;34m\u001b[0m\u001b[0m\n\u001b[1;32m      5\u001b[0m \u001b[0max\u001b[0m\u001b[0;34m[\u001b[0m\u001b[0;36m0\u001b[0m\u001b[0;34m]\u001b[0m\u001b[0;34m.\u001b[0m\u001b[0mimshow\u001b[0m\u001b[0;34m(\u001b[0m\u001b[0mfirst_convlayer_activation\u001b[0m\u001b[0;34m[\u001b[0m\u001b[0;36m0\u001b[0m\u001b[0;34m,\u001b[0m \u001b[0;34m:\u001b[0m\u001b[0;34m,\u001b[0m \u001b[0;34m:\u001b[0m\u001b[0;34m,\u001b[0m \u001b[0;36m3\u001b[0m\u001b[0;34m]\u001b[0m\u001b[0;34m,\u001b[0m \u001b[0mcmap\u001b[0m\u001b[0;34m=\u001b[0m\u001b[0;34m'viridis'\u001b[0m\u001b[0;34m)\u001b[0m\u001b[0;34m\u001b[0m\u001b[0;34m\u001b[0m\u001b[0m\n",
            "\u001b[0;31mNameError\u001b[0m: name 'activations' is not defined"
          ]
        }
      ],
      "execution_count": null
    },
    {
      "cell_type": "code",
      "source": [
        "print(\"Showing the class map..\")\n",
        "print(class_map_3)"
      ],
      "metadata": {
        "trusted": true,
        "_uuid": "9b24d222ab15dccc36f58d048cdd450531780b43",
        "execution": {
          "iopub.status.busy": "2025-06-04T08:20:25.134895Z",
          "iopub.execute_input": "2025-06-04T08:20:25.135138Z",
          "iopub.status.idle": "2025-06-04T08:20:25.149169Z",
          "shell.execute_reply.started": "2025-06-04T08:20:25.13507Z",
          "shell.execute_reply": "2025-06-04T08:20:25.148403Z"
        },
        "id": "vY4z8UODI4iM",
        "colab": {
          "base_uri": "https://localhost:8080/",
          "height": 176
        },
        "outputId": "f813e54b-0178-4992-de2b-60721e801edf"
      },
      "outputs": [
        {
          "output_type": "stream",
          "name": "stdout",
          "text": [
            "Showing the class map..\n"
          ]
        },
        {
          "output_type": "error",
          "ename": "NameError",
          "evalue": "name 'class_map_3' is not defined",
          "traceback": [
            "\u001b[0;31m---------------------------------------------------------------------------\u001b[0m",
            "\u001b[0;31mNameError\u001b[0m                                 Traceback (most recent call last)",
            "\u001b[0;32m/tmp/ipython-input-37-1086038961.py\u001b[0m in \u001b[0;36m<cell line: 0>\u001b[0;34m()\u001b[0m\n\u001b[1;32m      1\u001b[0m \u001b[0mprint\u001b[0m\u001b[0;34m(\u001b[0m\u001b[0;34m\"Showing the class map..\"\u001b[0m\u001b[0;34m)\u001b[0m\u001b[0;34m\u001b[0m\u001b[0;34m\u001b[0m\u001b[0m\n\u001b[0;32m----> 2\u001b[0;31m \u001b[0mprint\u001b[0m\u001b[0;34m(\u001b[0m\u001b[0mclass_map_3\u001b[0m\u001b[0;34m)\u001b[0m\u001b[0;34m\u001b[0m\u001b[0;34m\u001b[0m\u001b[0m\n\u001b[0m",
            "\u001b[0;31mNameError\u001b[0m: name 'class_map_3' is not defined"
          ]
        }
      ],
      "execution_count": null
    },
    {
      "cell_type": "code",
      "source": [
        "pred = get_attribution('applepie.jpg')\n",
        "print(\"Here are softmax predictions..\",pred)"
      ],
      "metadata": {
        "trusted": true,
        "_uuid": "e67af6ec477f5c1c552eabf2a279a7a4d0321542",
        "execution": {
          "iopub.status.busy": "2025-06-04T08:20:25.150426Z",
          "iopub.execute_input": "2025-06-04T08:20:25.150651Z",
          "iopub.status.idle": "2025-06-04T08:20:28.755326Z",
          "shell.execute_reply.started": "2025-06-04T08:20:25.150607Z",
          "shell.execute_reply": "2025-06-04T08:20:28.754598Z"
        },
        "id": "F14mFjA9I4iM",
        "colab": {
          "base_uri": "https://localhost:8080/",
          "height": 158
        },
        "outputId": "228d18ae-6e13-4608-ff31-3025d9101164"
      },
      "outputs": [
        {
          "output_type": "error",
          "ename": "NameError",
          "evalue": "name 'get_attribution' is not defined",
          "traceback": [
            "\u001b[0;31m---------------------------------------------------------------------------\u001b[0m",
            "\u001b[0;31mNameError\u001b[0m                                 Traceback (most recent call last)",
            "\u001b[0;32m/tmp/ipython-input-36-2018144173.py\u001b[0m in \u001b[0;36m<cell line: 0>\u001b[0;34m()\u001b[0m\n\u001b[0;32m----> 1\u001b[0;31m \u001b[0mpred\u001b[0m \u001b[0;34m=\u001b[0m \u001b[0mget_attribution\u001b[0m\u001b[0;34m(\u001b[0m\u001b[0;34m'applepie.jpg'\u001b[0m\u001b[0;34m)\u001b[0m\u001b[0;34m\u001b[0m\u001b[0;34m\u001b[0m\u001b[0m\n\u001b[0m\u001b[1;32m      2\u001b[0m \u001b[0mprint\u001b[0m\u001b[0;34m(\u001b[0m\u001b[0;34m\"Here are softmax predictions..\"\u001b[0m\u001b[0;34m,\u001b[0m\u001b[0mpred\u001b[0m\u001b[0;34m)\u001b[0m\u001b[0;34m\u001b[0m\u001b[0;34m\u001b[0m\u001b[0m\n",
            "\u001b[0;31mNameError\u001b[0m: name 'get_attribution' is not defined"
          ]
        }
      ],
      "execution_count": null
    },
    {
      "cell_type": "code",
      "source": [
        "pred = get_attribution('pizza.jpg')\n",
        "print(\"Here are softmax predictions..\",pred)"
      ],
      "metadata": {
        "trusted": true,
        "_uuid": "7703de1adbb3c7c4d36a156255cac7544a753ec9",
        "execution": {
          "iopub.status.busy": "2025-06-04T08:20:28.756874Z",
          "iopub.execute_input": "2025-06-04T08:20:28.757177Z",
          "iopub.status.idle": "2025-06-04T08:20:31.041212Z",
          "shell.execute_reply.started": "2025-06-04T08:20:28.757105Z",
          "shell.execute_reply": "2025-06-04T08:20:31.040336Z"
        },
        "id": "BIf4Zd8GI4iM",
        "colab": {
          "base_uri": "https://localhost:8080/",
          "height": 158
        },
        "outputId": "52635724-b11b-4bac-cc75-85263d6ec34e"
      },
      "outputs": [
        {
          "output_type": "error",
          "ename": "NameError",
          "evalue": "name 'get_attribution' is not defined",
          "traceback": [
            "\u001b[0;31m---------------------------------------------------------------------------\u001b[0m",
            "\u001b[0;31mNameError\u001b[0m                                 Traceback (most recent call last)",
            "\u001b[0;32m/tmp/ipython-input-35-3780338650.py\u001b[0m in \u001b[0;36m<cell line: 0>\u001b[0;34m()\u001b[0m\n\u001b[0;32m----> 1\u001b[0;31m \u001b[0mpred\u001b[0m \u001b[0;34m=\u001b[0m \u001b[0mget_attribution\u001b[0m\u001b[0;34m(\u001b[0m\u001b[0;34m'pizza.jpg'\u001b[0m\u001b[0;34m)\u001b[0m\u001b[0;34m\u001b[0m\u001b[0;34m\u001b[0m\u001b[0m\n\u001b[0m\u001b[1;32m      2\u001b[0m \u001b[0mprint\u001b[0m\u001b[0;34m(\u001b[0m\u001b[0;34m\"Here are softmax predictions..\"\u001b[0m\u001b[0;34m,\u001b[0m\u001b[0mpred\u001b[0m\u001b[0;34m)\u001b[0m\u001b[0;34m\u001b[0m\u001b[0;34m\u001b[0m\u001b[0m\n",
            "\u001b[0;31mNameError\u001b[0m: name 'get_attribution' is not defined"
          ]
        }
      ],
      "execution_count": null
    },
    {
      "cell_type": "code",
      "source": [
        "!wget -O piepizza.jpg https://raw.githubusercontent.com/theimgclist/PracticeGround/master/Food101/piepizza.jpg\n",
        "!wget -O piepizzas.png https://raw.githubusercontent.com/theimgclist/PracticeGround/master/Food101/piepizzas.png\n",
        "!wget -O pizzapie.jpg https://raw.githubusercontent.com/theimgclist/PracticeGround/master/Food101/pizzapie.jpg\n",
        "!wget -O pizzapies.png https://raw.githubusercontent.com/theimgclist/PracticeGround/master/Food101/pizzapies.png"
      ],
      "metadata": {
        "_uuid": "3f6b15f42226445649a7efde851c3c34cfd12976",
        "trusted": true,
        "execution": {
          "iopub.status.busy": "2025-06-04T08:22:43.962982Z",
          "iopub.execute_input": "2025-06-04T08:22:43.963304Z",
          "iopub.status.idle": "2025-06-04T08:22:51.377301Z",
          "shell.execute_reply.started": "2025-06-04T08:22:43.963242Z",
          "shell.execute_reply": "2025-06-04T08:22:51.37625Z"
        },
        "id": "kTTBIye4I4iM",
        "colab": {
          "base_uri": "https://localhost:8080/"
        },
        "outputId": "18a1e984-1d35-47e1-a0a9-8359a1910ef1"
      },
      "outputs": [
        {
          "output_type": "stream",
          "name": "stdout",
          "text": [
            "--2025-06-22 10:27:31--  https://raw.githubusercontent.com/theimgclist/PracticeGround/master/Food101/piepizza.jpg\n",
            "Resolving raw.githubusercontent.com (raw.githubusercontent.com)... 185.199.111.133, 185.199.109.133, 185.199.108.133, ...\n",
            "Connecting to raw.githubusercontent.com (raw.githubusercontent.com)|185.199.111.133|:443... connected.\n",
            "HTTP request sent, awaiting response... 200 OK\n",
            "Length: 70232 (69K) [image/jpeg]\n",
            "Saving to: ‘piepizza.jpg’\n",
            "\n",
            "piepizza.jpg        100%[===================>]  68.59K  --.-KB/s    in 0.001s  \n",
            "\n",
            "2025-06-22 10:27:31 (44.7 MB/s) - ‘piepizza.jpg’ saved [70232/70232]\n",
            "\n",
            "--2025-06-22 10:27:31--  https://raw.githubusercontent.com/theimgclist/PracticeGround/master/Food101/piepizzas.png\n",
            "Resolving raw.githubusercontent.com (raw.githubusercontent.com)... 185.199.108.133, 185.199.109.133, 185.199.110.133, ...\n",
            "Connecting to raw.githubusercontent.com (raw.githubusercontent.com)|185.199.108.133|:443... connected.\n",
            "HTTP request sent, awaiting response... 200 OK\n",
            "Length: 415642 (406K) [image/png]\n",
            "Saving to: ‘piepizzas.png’\n",
            "\n",
            "piepizzas.png       100%[===================>] 405.90K  --.-KB/s    in 0.005s  \n",
            "\n",
            "2025-06-22 10:27:32 (74.0 MB/s) - ‘piepizzas.png’ saved [415642/415642]\n",
            "\n",
            "--2025-06-22 10:27:32--  https://raw.githubusercontent.com/theimgclist/PracticeGround/master/Food101/pizzapie.jpg\n",
            "Resolving raw.githubusercontent.com (raw.githubusercontent.com)... 185.199.108.133, 185.199.109.133, 185.199.110.133, ...\n",
            "Connecting to raw.githubusercontent.com (raw.githubusercontent.com)|185.199.108.133|:443... connected.\n",
            "HTTP request sent, awaiting response... 200 OK\n",
            "Length: 70460 (69K) [image/jpeg]\n",
            "Saving to: ‘pizzapie.jpg’\n",
            "\n",
            "pizzapie.jpg        100%[===================>]  68.81K  --.-KB/s    in 0.001s  \n",
            "\n",
            "2025-06-22 10:27:32 (48.7 MB/s) - ‘pizzapie.jpg’ saved [70460/70460]\n",
            "\n",
            "--2025-06-22 10:27:32--  https://raw.githubusercontent.com/theimgclist/PracticeGround/master/Food101/pizzapies.png\n",
            "Resolving raw.githubusercontent.com (raw.githubusercontent.com)... 185.199.111.133, 185.199.110.133, 185.199.108.133, ...\n",
            "Connecting to raw.githubusercontent.com (raw.githubusercontent.com)|185.199.111.133|:443... connected.\n",
            "HTTP request sent, awaiting response... 200 OK\n",
            "Length: 429377 (419K) [image/png]\n",
            "Saving to: ‘pizzapies.png’\n",
            "\n",
            "pizzapies.png       100%[===================>] 419.31K  --.-KB/s    in 0.008s  \n",
            "\n",
            "2025-06-22 10:27:32 (52.0 MB/s) - ‘pizzapies.png’ saved [429377/429377]\n",
            "\n"
          ]
        }
      ],
      "execution_count": null
    },
    {
      "cell_type": "code",
      "source": [
        "food = 'piepizza.jpg'\n",
        "activations = get_activations(food,activations_output)"
      ],
      "metadata": {
        "trusted": true,
        "_uuid": "3bd18ee85715a2c5ea93ac42c90f5013371e9606",
        "execution": {
          "iopub.status.busy": "2025-06-04T08:22:51.378874Z",
          "iopub.execute_input": "2025-06-04T08:22:51.379257Z",
          "iopub.status.idle": "2025-06-04T08:22:51.71282Z",
          "shell.execute_reply.started": "2025-06-04T08:22:51.379194Z",
          "shell.execute_reply": "2025-06-04T08:22:51.712034Z"
        },
        "id": "7JRSf4EPI4iM",
        "colab": {
          "base_uri": "https://localhost:8080/",
          "height": 158
        },
        "outputId": "900280e0-c16f-42b5-ea0d-ce85c74d03a9"
      },
      "outputs": [
        {
          "output_type": "error",
          "ename": "NameError",
          "evalue": "name 'get_activations' is not defined",
          "traceback": [
            "\u001b[0;31m---------------------------------------------------------------------------\u001b[0m",
            "\u001b[0;31mNameError\u001b[0m                                 Traceback (most recent call last)",
            "\u001b[0;32m/tmp/ipython-input-33-3659098797.py\u001b[0m in \u001b[0;36m<cell line: 0>\u001b[0;34m()\u001b[0m\n\u001b[1;32m      1\u001b[0m \u001b[0mfood\u001b[0m \u001b[0;34m=\u001b[0m \u001b[0;34m'piepizza.jpg'\u001b[0m\u001b[0;34m\u001b[0m\u001b[0;34m\u001b[0m\u001b[0m\n\u001b[0;32m----> 2\u001b[0;31m \u001b[0mactivations\u001b[0m \u001b[0;34m=\u001b[0m \u001b[0mget_activations\u001b[0m\u001b[0;34m(\u001b[0m\u001b[0mfood\u001b[0m\u001b[0;34m,\u001b[0m\u001b[0mactivations_output\u001b[0m\u001b[0;34m)\u001b[0m\u001b[0;34m\u001b[0m\u001b[0;34m\u001b[0m\u001b[0m\n\u001b[0m",
            "\u001b[0;31mNameError\u001b[0m: name 'get_activations' is not defined"
          ]
        }
      ],
      "execution_count": null
    },
    {
      "cell_type": "code",
      "source": [
        "show_activations(activations, layer_names)"
      ],
      "metadata": {
        "trusted": true,
        "_uuid": "3002cc239b1e6cc18d87a5cf68422f779a5feb4d",
        "execution": {
          "iopub.status.busy": "2025-06-04T08:22:51.713799Z",
          "iopub.execute_input": "2025-06-04T08:22:51.714092Z",
          "iopub.status.idle": "2025-06-04T08:22:55.648751Z",
          "shell.execute_reply.started": "2025-06-04T08:22:51.714039Z",
          "shell.execute_reply": "2025-06-04T08:22:55.647878Z"
        },
        "id": "mf9Zyn-kI4iM",
        "colab": {
          "base_uri": "https://localhost:8080/",
          "height": 141
        },
        "outputId": "02ff4283-b4d5-481b-a441-4d273716e038"
      },
      "outputs": [
        {
          "output_type": "error",
          "ename": "NameError",
          "evalue": "name 'show_activations' is not defined",
          "traceback": [
            "\u001b[0;31m---------------------------------------------------------------------------\u001b[0m",
            "\u001b[0;31mNameError\u001b[0m                                 Traceback (most recent call last)",
            "\u001b[0;32m/tmp/ipython-input-32-3416134225.py\u001b[0m in \u001b[0;36m<cell line: 0>\u001b[0;34m()\u001b[0m\n\u001b[0;32m----> 1\u001b[0;31m \u001b[0mshow_activations\u001b[0m\u001b[0;34m(\u001b[0m\u001b[0mactivations\u001b[0m\u001b[0;34m,\u001b[0m \u001b[0mlayer_names\u001b[0m\u001b[0;34m)\u001b[0m\u001b[0;34m\u001b[0m\u001b[0;34m\u001b[0m\u001b[0m\n\u001b[0m",
            "\u001b[0;31mNameError\u001b[0m: name 'show_activations' is not defined"
          ]
        }
      ],
      "execution_count": null
    },
    {
      "cell_type": "code",
      "source": [
        "pred = get_attribution('piepizza.jpg')\n",
        "print(\"Here are softmax predictions..\",pred)"
      ],
      "metadata": {
        "trusted": true,
        "_uuid": "7d586ebc28865f330533978285cdb86ea0b034e4",
        "execution": {
          "iopub.status.busy": "2025-06-04T08:22:55.650136Z",
          "iopub.execute_input": "2025-06-04T08:22:55.650452Z",
          "iopub.status.idle": "2025-06-04T08:22:58.018305Z",
          "shell.execute_reply.started": "2025-06-04T08:22:55.6504Z",
          "shell.execute_reply": "2025-06-04T08:22:58.017443Z"
        },
        "id": "3G9M7ezsI4iM",
        "colab": {
          "base_uri": "https://localhost:8080/",
          "height": 158
        },
        "outputId": "2f73e624-f487-4f6e-d437-9a89e5740f79"
      },
      "outputs": [
        {
          "output_type": "error",
          "ename": "NameError",
          "evalue": "name 'get_attribution' is not defined",
          "traceback": [
            "\u001b[0;31m---------------------------------------------------------------------------\u001b[0m",
            "\u001b[0;31mNameError\u001b[0m                                 Traceback (most recent call last)",
            "\u001b[0;32m/tmp/ipython-input-31-2161815704.py\u001b[0m in \u001b[0;36m<cell line: 0>\u001b[0;34m()\u001b[0m\n\u001b[0;32m----> 1\u001b[0;31m \u001b[0mpred\u001b[0m \u001b[0;34m=\u001b[0m \u001b[0mget_attribution\u001b[0m\u001b[0;34m(\u001b[0m\u001b[0;34m'piepizza.jpg'\u001b[0m\u001b[0;34m)\u001b[0m\u001b[0;34m\u001b[0m\u001b[0;34m\u001b[0m\u001b[0m\n\u001b[0m\u001b[1;32m      2\u001b[0m \u001b[0mprint\u001b[0m\u001b[0;34m(\u001b[0m\u001b[0;34m\"Here are softmax predictions..\"\u001b[0m\u001b[0;34m,\u001b[0m\u001b[0mpred\u001b[0m\u001b[0;34m)\u001b[0m\u001b[0;34m\u001b[0m\u001b[0;34m\u001b[0m\u001b[0m\n",
            "\u001b[0;31mNameError\u001b[0m: name 'get_attribution' is not defined"
          ]
        }
      ],
      "execution_count": null
    },
    {
      "cell_type": "code",
      "source": [
        "food = 'pizzapie.jpg'\n",
        "activations = get_activations(food,activations_output)"
      ],
      "metadata": {
        "trusted": true,
        "_uuid": "5ee84660d1c611e26210c8fdd039eed0582f9c17",
        "execution": {
          "iopub.status.busy": "2025-06-04T08:22:58.019721Z",
          "iopub.execute_input": "2025-06-04T08:22:58.020522Z",
          "iopub.status.idle": "2025-06-04T08:22:58.345314Z",
          "shell.execute_reply.started": "2025-06-04T08:22:58.020107Z",
          "shell.execute_reply": "2025-06-04T08:22:58.344225Z"
        },
        "id": "dAewCSsJI4iM",
        "colab": {
          "base_uri": "https://localhost:8080/",
          "height": 158
        },
        "outputId": "4e8937ca-8017-4956-b5ce-29a246037e33"
      },
      "outputs": [
        {
          "output_type": "error",
          "ename": "NameError",
          "evalue": "name 'get_activations' is not defined",
          "traceback": [
            "\u001b[0;31m---------------------------------------------------------------------------\u001b[0m",
            "\u001b[0;31mNameError\u001b[0m                                 Traceback (most recent call last)",
            "\u001b[0;32m/tmp/ipython-input-30-3679203349.py\u001b[0m in \u001b[0;36m<cell line: 0>\u001b[0;34m()\u001b[0m\n\u001b[1;32m      1\u001b[0m \u001b[0mfood\u001b[0m \u001b[0;34m=\u001b[0m \u001b[0;34m'pizzapie.jpg'\u001b[0m\u001b[0;34m\u001b[0m\u001b[0;34m\u001b[0m\u001b[0m\n\u001b[0;32m----> 2\u001b[0;31m \u001b[0mactivations\u001b[0m \u001b[0;34m=\u001b[0m \u001b[0mget_activations\u001b[0m\u001b[0;34m(\u001b[0m\u001b[0mfood\u001b[0m\u001b[0;34m,\u001b[0m\u001b[0mactivations_output\u001b[0m\u001b[0;34m)\u001b[0m\u001b[0;34m\u001b[0m\u001b[0;34m\u001b[0m\u001b[0m\n\u001b[0m",
            "\u001b[0;31mNameError\u001b[0m: name 'get_activations' is not defined"
          ]
        }
      ],
      "execution_count": null
    },
    {
      "cell_type": "code",
      "source": [
        "pred = get_attribution('pizzapie.jpg')\n",
        "print(\"Here are softmax predictions..\",pred)"
      ],
      "metadata": {
        "trusted": true,
        "_uuid": "2dea63dad490095884d23d17ba3408a783ef7221",
        "execution": {
          "iopub.status.busy": "2025-06-04T08:22:58.34671Z",
          "iopub.execute_input": "2025-06-04T08:22:58.347044Z",
          "iopub.status.idle": "2025-06-04T08:23:00.556482Z",
          "shell.execute_reply.started": "2025-06-04T08:22:58.346985Z",
          "shell.execute_reply": "2025-06-04T08:23:00.555696Z"
        },
        "id": "mTz_DGL0I4iM",
        "colab": {
          "base_uri": "https://localhost:8080/",
          "height": 158
        },
        "outputId": "051f4cc1-9131-4f6b-b827-183fb1f96004"
      },
      "outputs": [
        {
          "output_type": "error",
          "ename": "NameError",
          "evalue": "name 'get_attribution' is not defined",
          "traceback": [
            "\u001b[0;31m---------------------------------------------------------------------------\u001b[0m",
            "\u001b[0;31mNameError\u001b[0m                                 Traceback (most recent call last)",
            "\u001b[0;32m/tmp/ipython-input-29-2938164367.py\u001b[0m in \u001b[0;36m<cell line: 0>\u001b[0;34m()\u001b[0m\n\u001b[0;32m----> 1\u001b[0;31m \u001b[0mpred\u001b[0m \u001b[0;34m=\u001b[0m \u001b[0mget_attribution\u001b[0m\u001b[0;34m(\u001b[0m\u001b[0;34m'pizzapie.jpg'\u001b[0m\u001b[0;34m)\u001b[0m\u001b[0;34m\u001b[0m\u001b[0;34m\u001b[0m\u001b[0m\n\u001b[0m\u001b[1;32m      2\u001b[0m \u001b[0mprint\u001b[0m\u001b[0;34m(\u001b[0m\u001b[0;34m\"Here are softmax predictions..\"\u001b[0m\u001b[0;34m,\u001b[0m\u001b[0mpred\u001b[0m\u001b[0;34m)\u001b[0m\u001b[0;34m\u001b[0m\u001b[0;34m\u001b[0m\u001b[0m\n",
            "\u001b[0;31mNameError\u001b[0m: name 'get_attribution' is not defined"
          ]
        }
      ],
      "execution_count": null
    },
    {
      "cell_type": "code",
      "source": [
        "food = 'pizzapies.png'\n",
        "activations = get_activations(food,activations_output)"
      ],
      "metadata": {
        "trusted": true,
        "_uuid": "94f1df50e0160a18fd4fc8be1415f53ffa5aa4d1",
        "execution": {
          "iopub.status.busy": "2025-06-04T08:23:00.557959Z",
          "iopub.execute_input": "2025-06-04T08:23:00.558282Z",
          "iopub.status.idle": "2025-06-04T08:23:00.785775Z",
          "shell.execute_reply.started": "2025-06-04T08:23:00.558216Z",
          "shell.execute_reply": "2025-06-04T08:23:00.784463Z"
        },
        "id": "k-CniKLRI4iN",
        "colab": {
          "base_uri": "https://localhost:8080/",
          "height": 158
        },
        "outputId": "bdedcd94-965f-4a41-8f30-cead86272e03"
      },
      "outputs": [
        {
          "output_type": "error",
          "ename": "NameError",
          "evalue": "name 'get_activations' is not defined",
          "traceback": [
            "\u001b[0;31m---------------------------------------------------------------------------\u001b[0m",
            "\u001b[0;31mNameError\u001b[0m                                 Traceback (most recent call last)",
            "\u001b[0;32m/tmp/ipython-input-28-1493560746.py\u001b[0m in \u001b[0;36m<cell line: 0>\u001b[0;34m()\u001b[0m\n\u001b[1;32m      1\u001b[0m \u001b[0mfood\u001b[0m \u001b[0;34m=\u001b[0m \u001b[0;34m'pizzapies.png'\u001b[0m\u001b[0;34m\u001b[0m\u001b[0;34m\u001b[0m\u001b[0m\n\u001b[0;32m----> 2\u001b[0;31m \u001b[0mactivations\u001b[0m \u001b[0;34m=\u001b[0m \u001b[0mget_activations\u001b[0m\u001b[0;34m(\u001b[0m\u001b[0mfood\u001b[0m\u001b[0;34m,\u001b[0m\u001b[0mactivations_output\u001b[0m\u001b[0;34m)\u001b[0m\u001b[0;34m\u001b[0m\u001b[0;34m\u001b[0m\u001b[0m\n\u001b[0m",
            "\u001b[0;31mNameError\u001b[0m: name 'get_activations' is not defined"
          ]
        }
      ],
      "execution_count": null
    },
    {
      "cell_type": "code",
      "source": [
        "pred = get_attribution('pizzapies.png')\n",
        "print(\"Here are softmax predictions..\",pred)"
      ],
      "metadata": {
        "trusted": true,
        "_uuid": "30039ce99f4d49bb562cb08014a98691ec1d1ef0",
        "execution": {
          "iopub.status.busy": "2025-06-04T08:23:00.788476Z",
          "iopub.execute_input": "2025-06-04T08:23:00.788877Z",
          "iopub.status.idle": "2025-06-04T08:23:03.256761Z",
          "shell.execute_reply.started": "2025-06-04T08:23:00.788817Z",
          "shell.execute_reply": "2025-06-04T08:23:03.255939Z"
        },
        "id": "3LvhuHiyI4iN",
        "colab": {
          "base_uri": "https://localhost:8080/",
          "height": 158
        },
        "outputId": "e579bc57-aad7-4fe5-9563-a4b0762a4af1"
      },
      "outputs": [
        {
          "output_type": "error",
          "ename": "NameError",
          "evalue": "name 'get_attribution' is not defined",
          "traceback": [
            "\u001b[0;31m---------------------------------------------------------------------------\u001b[0m",
            "\u001b[0;31mNameError\u001b[0m                                 Traceback (most recent call last)",
            "\u001b[0;32m/tmp/ipython-input-27-400155820.py\u001b[0m in \u001b[0;36m<cell line: 0>\u001b[0;34m()\u001b[0m\n\u001b[0;32m----> 1\u001b[0;31m \u001b[0mpred\u001b[0m \u001b[0;34m=\u001b[0m \u001b[0mget_attribution\u001b[0m\u001b[0;34m(\u001b[0m\u001b[0;34m'pizzapies.png'\u001b[0m\u001b[0;34m)\u001b[0m\u001b[0;34m\u001b[0m\u001b[0;34m\u001b[0m\u001b[0m\n\u001b[0m\u001b[1;32m      2\u001b[0m \u001b[0mprint\u001b[0m\u001b[0;34m(\u001b[0m\u001b[0;34m\"Here are softmax predictions..\"\u001b[0m\u001b[0;34m,\u001b[0m\u001b[0mpred\u001b[0m\u001b[0;34m)\u001b[0m\u001b[0;34m\u001b[0m\u001b[0;34m\u001b[0m\u001b[0m\n",
            "\u001b[0;31mNameError\u001b[0m: name 'get_attribution' is not defined"
          ]
        }
      ],
      "execution_count": null
    },
    {
      "cell_type": "code",
      "source": [
        "food = 'piepizzas.png'\n",
        "activations = get_activations(food,activations_output)"
      ],
      "metadata": {
        "trusted": true,
        "_uuid": "f4215643fc7ea4ea01003105c36d75ac8643f636",
        "execution": {
          "iopub.status.busy": "2025-06-04T08:23:03.258764Z",
          "iopub.execute_input": "2025-06-04T08:23:03.25898Z",
          "iopub.status.idle": "2025-06-04T08:23:03.552416Z",
          "shell.execute_reply.started": "2025-06-04T08:23:03.258943Z",
          "shell.execute_reply": "2025-06-04T08:23:03.550988Z"
        },
        "id": "Q2e5pQpaI4iN",
        "colab": {
          "base_uri": "https://localhost:8080/",
          "height": 158
        },
        "outputId": "591438f4-c47b-4ca8-b5b4-7e515f55212e"
      },
      "outputs": [
        {
          "output_type": "error",
          "ename": "NameError",
          "evalue": "name 'get_activations' is not defined",
          "traceback": [
            "\u001b[0;31m---------------------------------------------------------------------------\u001b[0m",
            "\u001b[0;31mNameError\u001b[0m                                 Traceback (most recent call last)",
            "\u001b[0;32m/tmp/ipython-input-26-2210101665.py\u001b[0m in \u001b[0;36m<cell line: 0>\u001b[0;34m()\u001b[0m\n\u001b[1;32m      1\u001b[0m \u001b[0mfood\u001b[0m \u001b[0;34m=\u001b[0m \u001b[0;34m'piepizzas.png'\u001b[0m\u001b[0;34m\u001b[0m\u001b[0;34m\u001b[0m\u001b[0m\n\u001b[0;32m----> 2\u001b[0;31m \u001b[0mactivations\u001b[0m \u001b[0;34m=\u001b[0m \u001b[0mget_activations\u001b[0m\u001b[0;34m(\u001b[0m\u001b[0mfood\u001b[0m\u001b[0;34m,\u001b[0m\u001b[0mactivations_output\u001b[0m\u001b[0;34m)\u001b[0m\u001b[0;34m\u001b[0m\u001b[0;34m\u001b[0m\u001b[0m\n\u001b[0m",
            "\u001b[0;31mNameError\u001b[0m: name 'get_activations' is not defined"
          ]
        }
      ],
      "execution_count": null
    },
    {
      "cell_type": "code",
      "source": [
        "pred = get_attribution('piepizzas.png')\n",
        "print(\"Here are softmax predictions..\",pred)"
      ],
      "metadata": {
        "trusted": true,
        "_uuid": "ea41b1a1ee4f286d736a7b582151e15619ca4666",
        "execution": {
          "iopub.status.busy": "2025-06-04T08:23:03.554909Z",
          "iopub.execute_input": "2025-06-04T08:23:03.555333Z",
          "iopub.status.idle": "2025-06-04T08:23:05.987311Z",
          "shell.execute_reply.started": "2025-06-04T08:23:03.555293Z",
          "shell.execute_reply": "2025-06-04T08:23:05.986601Z"
        },
        "id": "tgC-EUFvI4iN",
        "colab": {
          "base_uri": "https://localhost:8080/",
          "height": 158
        },
        "outputId": "39b51913-d499-4a08-e0ba-918e4415d729"
      },
      "outputs": [
        {
          "output_type": "error",
          "ename": "NameError",
          "evalue": "name 'get_attribution' is not defined",
          "traceback": [
            "\u001b[0;31m---------------------------------------------------------------------------\u001b[0m",
            "\u001b[0;31mNameError\u001b[0m                                 Traceback (most recent call last)",
            "\u001b[0;32m/tmp/ipython-input-25-3688515798.py\u001b[0m in \u001b[0;36m<cell line: 0>\u001b[0;34m()\u001b[0m\n\u001b[0;32m----> 1\u001b[0;31m \u001b[0mpred\u001b[0m \u001b[0;34m=\u001b[0m \u001b[0mget_attribution\u001b[0m\u001b[0;34m(\u001b[0m\u001b[0;34m'piepizzas.png'\u001b[0m\u001b[0;34m)\u001b[0m\u001b[0;34m\u001b[0m\u001b[0;34m\u001b[0m\u001b[0m\n\u001b[0m\u001b[1;32m      2\u001b[0m \u001b[0mprint\u001b[0m\u001b[0;34m(\u001b[0m\u001b[0;34m\"Here are softmax predictions..\"\u001b[0m\u001b[0;34m,\u001b[0m\u001b[0mpred\u001b[0m\u001b[0;34m)\u001b[0m\u001b[0;34m\u001b[0m\u001b[0;34m\u001b[0m\u001b[0m\n",
            "\u001b[0;31mNameError\u001b[0m: name 'get_attribution' is not defined"
          ]
        }
      ],
      "execution_count": null
    }
  ]
}